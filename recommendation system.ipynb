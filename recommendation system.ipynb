{
 "cells": [
  {
   "cell_type": "code",
   "execution_count": 1,
   "metadata": {
    "id": "xD4DDiegmN-w"
   },
   "outputs": [],
   "source": [
    "import pandas as pd\n",
    "from sklearn.feature_extraction.text import CountVectorizer \n",
    "import numpy as np\n",
    "from sklearn.metrics.pairwise import cosine_similarity\n",
    "from sklearn.preprocessing import MinMaxScaler\n",
    "from sklearn.decomposition import PCA\n",
    "import matplotlib.pyplot as plt "
   ]
  },
  {
   "cell_type": "code",
   "execution_count": 2,
   "metadata": {
    "id": "uLF2pi4PmS-i"
   },
   "outputs": [],
   "source": [
    "df=pd.read_csv('games.csv')"
   ]
  },
  {
   "cell_type": "code",
   "execution_count": 3,
   "metadata": {
    "colab": {
     "base_uri": "https://localhost:8080/"
    },
    "id": "0_tMqhjd515t",
    "outputId": "f55cefe2-8f91-46f8-99ff-d97d956e693f"
   },
   "outputs": [
    {
     "data": {
      "text/plain": [
       "(85103, 39)"
      ]
     },
     "execution_count": 3,
     "metadata": {},
     "output_type": "execute_result"
    }
   ],
   "source": [
    "df.shape"
   ]
  },
  {
   "cell_type": "markdown",
   "metadata": {
    "id": "EQuU3e7HF6zS"
   },
   "source": [
    "# Preporcessing"
   ]
  },
  {
   "cell_type": "markdown",
   "metadata": {
    "id": "oV_1SxS_Fj_t"
   },
   "source": [
    "## Quick Cleaning"
   ]
  },
  {
   "cell_type": "code",
   "execution_count": 4,
   "metadata": {
    "colab": {
     "base_uri": "https://localhost:8080/"
    },
    "id": "4YuNpL1bwqlP",
    "outputId": "6e963565-2d2d-4530-af5e-8b21af247648"
   },
   "outputs": [
    {
     "data": {
      "text/plain": [
       "0"
      ]
     },
     "execution_count": 4,
     "metadata": {},
     "output_type": "execute_result"
    }
   ],
   "source": [
    "df.duplicated().sum()"
   ]
  },
  {
   "cell_type": "code",
   "execution_count": 5,
   "metadata": {
    "id": "kRmMGu4LxBPq"
   },
   "outputs": [],
   "source": [
    "df=df.drop_duplicates()"
   ]
  },
  {
   "cell_type": "code",
   "execution_count": 6,
   "metadata": {
    "colab": {
     "base_uri": "https://localhost:8080/"
    },
    "id": "l31mELQho3KV",
    "outputId": "8619e674-a818-4ff9-c39d-4ccdfa27efb8"
   },
   "outputs": [
    {
     "data": {
      "text/plain": [
       "0"
      ]
     },
     "execution_count": 6,
     "metadata": {},
     "output_type": "execute_result"
    }
   ],
   "source": [
    "df.duplicated().sum()"
   ]
  },
  {
   "cell_type": "markdown",
   "metadata": {
    "id": "1U7UxObwF4js"
   },
   "source": [
    "## Renaming Columns"
   ]
  },
  {
   "cell_type": "code",
   "execution_count": 7,
   "metadata": {
    "colab": {
     "base_uri": "https://localhost:8080/"
    },
    "id": "6RkfSPChoOwG",
    "outputId": "cd6b0c95-0cc5-4e03-bff3-ca2bcf864555"
   },
   "outputs": [
    {
     "data": {
      "text/plain": [
       "Index(['AppID', 'Name', 'Release date', 'Estimated owners', 'Peak CCU',\n",
       "       'Required age', 'Price', 'DLC count', 'About the game',\n",
       "       'Supported languages', 'Full audio languages', 'Reviews',\n",
       "       'Header image', 'Website', 'Support url', 'Support email', 'Windows',\n",
       "       'Mac', 'Linux', 'Metacritic score', 'Metacritic url', 'User score',\n",
       "       'Positive', 'Negative', 'Score rank', 'Achievements', 'Recommendations',\n",
       "       'Notes', 'Average playtime forever', 'Average playtime two weeks',\n",
       "       'Median playtime forever', 'Median playtime two weeks', 'Developers',\n",
       "       'Publishers', 'Categories', 'Genres', 'Tags', 'Screenshots', 'Movies'],\n",
       "      dtype='object')"
      ]
     },
     "execution_count": 7,
     "metadata": {},
     "output_type": "execute_result"
    }
   ],
   "source": [
    "df.columns\n"
   ]
  },
  {
   "cell_type": "code",
   "execution_count": 8,
   "metadata": {
    "id": "NY_qq3yinuEG"
   },
   "outputs": [],
   "source": [
    "df = df.rename(columns={'Supported languages': 'language', 'Release date': 'Release_Date',\n",
    "                        'Estimated owners': 'Estimated_Owners',\n",
    "                        'Peak CCU': 'Peak_CCU','Required age': 'Req_Age',\n",
    "                        'About the game': 'Overview',\n",
    "                         'Score rank': 'Score_Rank',\n",
    "                        'Metacritic score': 'Metacritic_Score',\n",
    "                        'User score': 'User_Score',\n",
    "                        'Average playtime forever':'Average_playtime_forever',\n",
    "                        'Average playtime two weeks':'Average_playtime_2weeks',\n",
    "                        'Median playtime forever':'Median_playtime_forever', \n",
    "                        'Median playtime two weeks': 'Median_playtime_forever',\n",
    "                        })"
   ]
  },
  {
   "cell_type": "code",
   "execution_count": 9,
   "metadata": {
    "colab": {
     "base_uri": "https://localhost:8080/",
     "height": 681
    },
    "id": "9YnbeBZR6qG-",
    "outputId": "61bc084c-c98f-43d2-c66e-7fd9ba46bfed"
   },
   "outputs": [
    {
     "data": {
      "text/html": [
       "<div>\n",
       "<style scoped>\n",
       "    .dataframe tbody tr th:only-of-type {\n",
       "        vertical-align: middle;\n",
       "    }\n",
       "\n",
       "    .dataframe tbody tr th {\n",
       "        vertical-align: top;\n",
       "    }\n",
       "\n",
       "    .dataframe thead th {\n",
       "        text-align: right;\n",
       "    }\n",
       "</style>\n",
       "<table border=\"1\" class=\"dataframe\">\n",
       "  <thead>\n",
       "    <tr style=\"text-align: right;\">\n",
       "      <th></th>\n",
       "      <th>AppID</th>\n",
       "      <th>Name</th>\n",
       "      <th>Release_Date</th>\n",
       "      <th>Estimated_Owners</th>\n",
       "      <th>Peak_CCU</th>\n",
       "      <th>Req_Age</th>\n",
       "      <th>Price</th>\n",
       "      <th>DLC count</th>\n",
       "      <th>Overview</th>\n",
       "      <th>language</th>\n",
       "      <th>...</th>\n",
       "      <th>Average_playtime_2weeks</th>\n",
       "      <th>Median_playtime_forever</th>\n",
       "      <th>Median_playtime_forever</th>\n",
       "      <th>Developers</th>\n",
       "      <th>Publishers</th>\n",
       "      <th>Categories</th>\n",
       "      <th>Genres</th>\n",
       "      <th>Tags</th>\n",
       "      <th>Screenshots</th>\n",
       "      <th>Movies</th>\n",
       "    </tr>\n",
       "  </thead>\n",
       "  <tbody>\n",
       "    <tr>\n",
       "      <th>0</th>\n",
       "      <td>20200</td>\n",
       "      <td>Galactic Bowling</td>\n",
       "      <td>Oct 21, 2008</td>\n",
       "      <td>0 - 20000</td>\n",
       "      <td>0</td>\n",
       "      <td>0</td>\n",
       "      <td>19.99</td>\n",
       "      <td>0</td>\n",
       "      <td>Galactic Bowling is an exaggerated and stylize...</td>\n",
       "      <td>['English']</td>\n",
       "      <td>...</td>\n",
       "      <td>0</td>\n",
       "      <td>0</td>\n",
       "      <td>0</td>\n",
       "      <td>Perpetual FX Creative</td>\n",
       "      <td>Perpetual FX Creative</td>\n",
       "      <td>Single-player,Multi-player,Steam Achievements,...</td>\n",
       "      <td>Casual,Indie,Sports</td>\n",
       "      <td>Indie,Casual,Sports,Bowling</td>\n",
       "      <td>https://cdn.akamai.steamstatic.com/steam/apps/...</td>\n",
       "      <td>http://cdn.akamai.steamstatic.com/steam/apps/2...</td>\n",
       "    </tr>\n",
       "    <tr>\n",
       "      <th>1</th>\n",
       "      <td>655370</td>\n",
       "      <td>Train Bandit</td>\n",
       "      <td>Oct 12, 2017</td>\n",
       "      <td>0 - 20000</td>\n",
       "      <td>0</td>\n",
       "      <td>0</td>\n",
       "      <td>0.99</td>\n",
       "      <td>0</td>\n",
       "      <td>THE LAW!! Looks to be a showdown atop a train....</td>\n",
       "      <td>['English', 'French', 'Italian', 'German', 'Sp...</td>\n",
       "      <td>...</td>\n",
       "      <td>0</td>\n",
       "      <td>0</td>\n",
       "      <td>0</td>\n",
       "      <td>Rusty Moyher</td>\n",
       "      <td>Wild Rooster</td>\n",
       "      <td>Single-player,Steam Achievements,Full controll...</td>\n",
       "      <td>Action,Indie</td>\n",
       "      <td>Indie,Action,Pixel Graphics,2D,Retro,Arcade,Sc...</td>\n",
       "      <td>https://cdn.akamai.steamstatic.com/steam/apps/...</td>\n",
       "      <td>http://cdn.akamai.steamstatic.com/steam/apps/2...</td>\n",
       "    </tr>\n",
       "    <tr>\n",
       "      <th>2</th>\n",
       "      <td>1732930</td>\n",
       "      <td>Jolt Project</td>\n",
       "      <td>Nov 17, 2021</td>\n",
       "      <td>0 - 20000</td>\n",
       "      <td>0</td>\n",
       "      <td>0</td>\n",
       "      <td>4.99</td>\n",
       "      <td>0</td>\n",
       "      <td>Jolt Project: The army now has a new robotics ...</td>\n",
       "      <td>['English', 'Portuguese - Brazil']</td>\n",
       "      <td>...</td>\n",
       "      <td>0</td>\n",
       "      <td>0</td>\n",
       "      <td>0</td>\n",
       "      <td>Campião Games</td>\n",
       "      <td>Campião Games</td>\n",
       "      <td>Single-player</td>\n",
       "      <td>Action,Adventure,Indie,Strategy</td>\n",
       "      <td>NaN</td>\n",
       "      <td>https://cdn.akamai.steamstatic.com/steam/apps/...</td>\n",
       "      <td>http://cdn.akamai.steamstatic.com/steam/apps/2...</td>\n",
       "    </tr>\n",
       "    <tr>\n",
       "      <th>3</th>\n",
       "      <td>1355720</td>\n",
       "      <td>Henosis™</td>\n",
       "      <td>Jul 23, 2020</td>\n",
       "      <td>0 - 20000</td>\n",
       "      <td>0</td>\n",
       "      <td>0</td>\n",
       "      <td>5.99</td>\n",
       "      <td>0</td>\n",
       "      <td>HENOSIS™ is a mysterious 2D Platform Puzzler w...</td>\n",
       "      <td>['English', 'French', 'Italian', 'German', 'Sp...</td>\n",
       "      <td>...</td>\n",
       "      <td>0</td>\n",
       "      <td>0</td>\n",
       "      <td>0</td>\n",
       "      <td>Odd Critter Games</td>\n",
       "      <td>Odd Critter Games</td>\n",
       "      <td>Single-player,Full controller support</td>\n",
       "      <td>Adventure,Casual,Indie</td>\n",
       "      <td>2D Platformer,Atmospheric,Surreal,Mystery,Puzz...</td>\n",
       "      <td>https://cdn.akamai.steamstatic.com/steam/apps/...</td>\n",
       "      <td>http://cdn.akamai.steamstatic.com/steam/apps/2...</td>\n",
       "    </tr>\n",
       "    <tr>\n",
       "      <th>4</th>\n",
       "      <td>1139950</td>\n",
       "      <td>Two Weeks in Painland</td>\n",
       "      <td>Feb 3, 2020</td>\n",
       "      <td>0 - 20000</td>\n",
       "      <td>0</td>\n",
       "      <td>0</td>\n",
       "      <td>0.00</td>\n",
       "      <td>0</td>\n",
       "      <td>ABOUT THE GAME Play as a hacker who has arrang...</td>\n",
       "      <td>['English', 'Spanish - Spain']</td>\n",
       "      <td>...</td>\n",
       "      <td>0</td>\n",
       "      <td>0</td>\n",
       "      <td>0</td>\n",
       "      <td>Unusual Games</td>\n",
       "      <td>Unusual Games</td>\n",
       "      <td>Single-player,Steam Achievements</td>\n",
       "      <td>Adventure,Indie</td>\n",
       "      <td>Indie,Adventure,Nudity,Violent,Sexual Content,...</td>\n",
       "      <td>https://cdn.akamai.steamstatic.com/steam/apps/...</td>\n",
       "      <td>http://cdn.akamai.steamstatic.com/steam/apps/2...</td>\n",
       "    </tr>\n",
       "  </tbody>\n",
       "</table>\n",
       "<p>5 rows × 39 columns</p>\n",
       "</div>"
      ],
      "text/plain": [
       "     AppID                   Name  Release_Date Estimated_Owners  Peak_CCU  \\\n",
       "0    20200       Galactic Bowling  Oct 21, 2008        0 - 20000         0   \n",
       "1   655370           Train Bandit  Oct 12, 2017        0 - 20000         0   \n",
       "2  1732930           Jolt Project  Nov 17, 2021        0 - 20000         0   \n",
       "3  1355720               Henosis™  Jul 23, 2020        0 - 20000         0   \n",
       "4  1139950  Two Weeks in Painland   Feb 3, 2020        0 - 20000         0   \n",
       "\n",
       "   Req_Age  Price  DLC count  \\\n",
       "0        0  19.99          0   \n",
       "1        0   0.99          0   \n",
       "2        0   4.99          0   \n",
       "3        0   5.99          0   \n",
       "4        0   0.00          0   \n",
       "\n",
       "                                            Overview  \\\n",
       "0  Galactic Bowling is an exaggerated and stylize...   \n",
       "1  THE LAW!! Looks to be a showdown atop a train....   \n",
       "2  Jolt Project: The army now has a new robotics ...   \n",
       "3  HENOSIS™ is a mysterious 2D Platform Puzzler w...   \n",
       "4  ABOUT THE GAME Play as a hacker who has arrang...   \n",
       "\n",
       "                                            language  ...  \\\n",
       "0                                        ['English']  ...   \n",
       "1  ['English', 'French', 'Italian', 'German', 'Sp...  ...   \n",
       "2                 ['English', 'Portuguese - Brazil']  ...   \n",
       "3  ['English', 'French', 'Italian', 'German', 'Sp...  ...   \n",
       "4                     ['English', 'Spanish - Spain']  ...   \n",
       "\n",
       "  Average_playtime_2weeks Median_playtime_forever Median_playtime_forever  \\\n",
       "0                       0                       0                       0   \n",
       "1                       0                       0                       0   \n",
       "2                       0                       0                       0   \n",
       "3                       0                       0                       0   \n",
       "4                       0                       0                       0   \n",
       "\n",
       "              Developers             Publishers  \\\n",
       "0  Perpetual FX Creative  Perpetual FX Creative   \n",
       "1           Rusty Moyher           Wild Rooster   \n",
       "2          Campião Games          Campião Games   \n",
       "3      Odd Critter Games      Odd Critter Games   \n",
       "4          Unusual Games          Unusual Games   \n",
       "\n",
       "                                          Categories  \\\n",
       "0  Single-player,Multi-player,Steam Achievements,...   \n",
       "1  Single-player,Steam Achievements,Full controll...   \n",
       "2                                      Single-player   \n",
       "3              Single-player,Full controller support   \n",
       "4                   Single-player,Steam Achievements   \n",
       "\n",
       "                            Genres  \\\n",
       "0              Casual,Indie,Sports   \n",
       "1                     Action,Indie   \n",
       "2  Action,Adventure,Indie,Strategy   \n",
       "3           Adventure,Casual,Indie   \n",
       "4                  Adventure,Indie   \n",
       "\n",
       "                                                Tags  \\\n",
       "0                        Indie,Casual,Sports,Bowling   \n",
       "1  Indie,Action,Pixel Graphics,2D,Retro,Arcade,Sc...   \n",
       "2                                                NaN   \n",
       "3  2D Platformer,Atmospheric,Surreal,Mystery,Puzz...   \n",
       "4  Indie,Adventure,Nudity,Violent,Sexual Content,...   \n",
       "\n",
       "                                         Screenshots  \\\n",
       "0  https://cdn.akamai.steamstatic.com/steam/apps/...   \n",
       "1  https://cdn.akamai.steamstatic.com/steam/apps/...   \n",
       "2  https://cdn.akamai.steamstatic.com/steam/apps/...   \n",
       "3  https://cdn.akamai.steamstatic.com/steam/apps/...   \n",
       "4  https://cdn.akamai.steamstatic.com/steam/apps/...   \n",
       "\n",
       "                                              Movies  \n",
       "0  http://cdn.akamai.steamstatic.com/steam/apps/2...  \n",
       "1  http://cdn.akamai.steamstatic.com/steam/apps/2...  \n",
       "2  http://cdn.akamai.steamstatic.com/steam/apps/2...  \n",
       "3  http://cdn.akamai.steamstatic.com/steam/apps/2...  \n",
       "4  http://cdn.akamai.steamstatic.com/steam/apps/2...  \n",
       "\n",
       "[5 rows x 39 columns]"
      ]
     },
     "execution_count": 9,
     "metadata": {},
     "output_type": "execute_result"
    }
   ],
   "source": [
    "df.head()"
   ]
  },
  {
   "cell_type": "code",
   "execution_count": 10,
   "metadata": {
    "id": "0UCK9y22VNLM"
   },
   "outputs": [],
   "source": [
    "df=df.iloc[:20000]"
   ]
  },
  {
   "cell_type": "code",
   "execution_count": 11,
   "metadata": {
    "colab": {
     "base_uri": "https://localhost:8080/",
     "height": 681
    },
    "id": "VsgdQxiWV9V7",
    "outputId": "c9be44bd-9845-4030-953a-2324d258fce4"
   },
   "outputs": [
    {
     "data": {
      "text/html": [
       "<div>\n",
       "<style scoped>\n",
       "    .dataframe tbody tr th:only-of-type {\n",
       "        vertical-align: middle;\n",
       "    }\n",
       "\n",
       "    .dataframe tbody tr th {\n",
       "        vertical-align: top;\n",
       "    }\n",
       "\n",
       "    .dataframe thead th {\n",
       "        text-align: right;\n",
       "    }\n",
       "</style>\n",
       "<table border=\"1\" class=\"dataframe\">\n",
       "  <thead>\n",
       "    <tr style=\"text-align: right;\">\n",
       "      <th></th>\n",
       "      <th>AppID</th>\n",
       "      <th>Name</th>\n",
       "      <th>Release_Date</th>\n",
       "      <th>Estimated_Owners</th>\n",
       "      <th>Peak_CCU</th>\n",
       "      <th>Req_Age</th>\n",
       "      <th>Price</th>\n",
       "      <th>DLC count</th>\n",
       "      <th>Overview</th>\n",
       "      <th>language</th>\n",
       "      <th>...</th>\n",
       "      <th>Average_playtime_2weeks</th>\n",
       "      <th>Median_playtime_forever</th>\n",
       "      <th>Median_playtime_forever</th>\n",
       "      <th>Developers</th>\n",
       "      <th>Publishers</th>\n",
       "      <th>Categories</th>\n",
       "      <th>Genres</th>\n",
       "      <th>Tags</th>\n",
       "      <th>Screenshots</th>\n",
       "      <th>Movies</th>\n",
       "    </tr>\n",
       "  </thead>\n",
       "  <tbody>\n",
       "    <tr>\n",
       "      <th>0</th>\n",
       "      <td>20200</td>\n",
       "      <td>Galactic Bowling</td>\n",
       "      <td>Oct 21, 2008</td>\n",
       "      <td>0 - 20000</td>\n",
       "      <td>0</td>\n",
       "      <td>0</td>\n",
       "      <td>19.99</td>\n",
       "      <td>0</td>\n",
       "      <td>Galactic Bowling is an exaggerated and stylize...</td>\n",
       "      <td>['English']</td>\n",
       "      <td>...</td>\n",
       "      <td>0</td>\n",
       "      <td>0</td>\n",
       "      <td>0</td>\n",
       "      <td>Perpetual FX Creative</td>\n",
       "      <td>Perpetual FX Creative</td>\n",
       "      <td>Single-player,Multi-player,Steam Achievements,...</td>\n",
       "      <td>Casual,Indie,Sports</td>\n",
       "      <td>Indie,Casual,Sports,Bowling</td>\n",
       "      <td>https://cdn.akamai.steamstatic.com/steam/apps/...</td>\n",
       "      <td>http://cdn.akamai.steamstatic.com/steam/apps/2...</td>\n",
       "    </tr>\n",
       "    <tr>\n",
       "      <th>1</th>\n",
       "      <td>655370</td>\n",
       "      <td>Train Bandit</td>\n",
       "      <td>Oct 12, 2017</td>\n",
       "      <td>0 - 20000</td>\n",
       "      <td>0</td>\n",
       "      <td>0</td>\n",
       "      <td>0.99</td>\n",
       "      <td>0</td>\n",
       "      <td>THE LAW!! Looks to be a showdown atop a train....</td>\n",
       "      <td>['English', 'French', 'Italian', 'German', 'Sp...</td>\n",
       "      <td>...</td>\n",
       "      <td>0</td>\n",
       "      <td>0</td>\n",
       "      <td>0</td>\n",
       "      <td>Rusty Moyher</td>\n",
       "      <td>Wild Rooster</td>\n",
       "      <td>Single-player,Steam Achievements,Full controll...</td>\n",
       "      <td>Action,Indie</td>\n",
       "      <td>Indie,Action,Pixel Graphics,2D,Retro,Arcade,Sc...</td>\n",
       "      <td>https://cdn.akamai.steamstatic.com/steam/apps/...</td>\n",
       "      <td>http://cdn.akamai.steamstatic.com/steam/apps/2...</td>\n",
       "    </tr>\n",
       "    <tr>\n",
       "      <th>2</th>\n",
       "      <td>1732930</td>\n",
       "      <td>Jolt Project</td>\n",
       "      <td>Nov 17, 2021</td>\n",
       "      <td>0 - 20000</td>\n",
       "      <td>0</td>\n",
       "      <td>0</td>\n",
       "      <td>4.99</td>\n",
       "      <td>0</td>\n",
       "      <td>Jolt Project: The army now has a new robotics ...</td>\n",
       "      <td>['English', 'Portuguese - Brazil']</td>\n",
       "      <td>...</td>\n",
       "      <td>0</td>\n",
       "      <td>0</td>\n",
       "      <td>0</td>\n",
       "      <td>Campião Games</td>\n",
       "      <td>Campião Games</td>\n",
       "      <td>Single-player</td>\n",
       "      <td>Action,Adventure,Indie,Strategy</td>\n",
       "      <td>NaN</td>\n",
       "      <td>https://cdn.akamai.steamstatic.com/steam/apps/...</td>\n",
       "      <td>http://cdn.akamai.steamstatic.com/steam/apps/2...</td>\n",
       "    </tr>\n",
       "    <tr>\n",
       "      <th>3</th>\n",
       "      <td>1355720</td>\n",
       "      <td>Henosis™</td>\n",
       "      <td>Jul 23, 2020</td>\n",
       "      <td>0 - 20000</td>\n",
       "      <td>0</td>\n",
       "      <td>0</td>\n",
       "      <td>5.99</td>\n",
       "      <td>0</td>\n",
       "      <td>HENOSIS™ is a mysterious 2D Platform Puzzler w...</td>\n",
       "      <td>['English', 'French', 'Italian', 'German', 'Sp...</td>\n",
       "      <td>...</td>\n",
       "      <td>0</td>\n",
       "      <td>0</td>\n",
       "      <td>0</td>\n",
       "      <td>Odd Critter Games</td>\n",
       "      <td>Odd Critter Games</td>\n",
       "      <td>Single-player,Full controller support</td>\n",
       "      <td>Adventure,Casual,Indie</td>\n",
       "      <td>2D Platformer,Atmospheric,Surreal,Mystery,Puzz...</td>\n",
       "      <td>https://cdn.akamai.steamstatic.com/steam/apps/...</td>\n",
       "      <td>http://cdn.akamai.steamstatic.com/steam/apps/2...</td>\n",
       "    </tr>\n",
       "    <tr>\n",
       "      <th>4</th>\n",
       "      <td>1139950</td>\n",
       "      <td>Two Weeks in Painland</td>\n",
       "      <td>Feb 3, 2020</td>\n",
       "      <td>0 - 20000</td>\n",
       "      <td>0</td>\n",
       "      <td>0</td>\n",
       "      <td>0.00</td>\n",
       "      <td>0</td>\n",
       "      <td>ABOUT THE GAME Play as a hacker who has arrang...</td>\n",
       "      <td>['English', 'Spanish - Spain']</td>\n",
       "      <td>...</td>\n",
       "      <td>0</td>\n",
       "      <td>0</td>\n",
       "      <td>0</td>\n",
       "      <td>Unusual Games</td>\n",
       "      <td>Unusual Games</td>\n",
       "      <td>Single-player,Steam Achievements</td>\n",
       "      <td>Adventure,Indie</td>\n",
       "      <td>Indie,Adventure,Nudity,Violent,Sexual Content,...</td>\n",
       "      <td>https://cdn.akamai.steamstatic.com/steam/apps/...</td>\n",
       "      <td>http://cdn.akamai.steamstatic.com/steam/apps/2...</td>\n",
       "    </tr>\n",
       "  </tbody>\n",
       "</table>\n",
       "<p>5 rows × 39 columns</p>\n",
       "</div>"
      ],
      "text/plain": [
       "     AppID                   Name  Release_Date Estimated_Owners  Peak_CCU  \\\n",
       "0    20200       Galactic Bowling  Oct 21, 2008        0 - 20000         0   \n",
       "1   655370           Train Bandit  Oct 12, 2017        0 - 20000         0   \n",
       "2  1732930           Jolt Project  Nov 17, 2021        0 - 20000         0   \n",
       "3  1355720               Henosis™  Jul 23, 2020        0 - 20000         0   \n",
       "4  1139950  Two Weeks in Painland   Feb 3, 2020        0 - 20000         0   \n",
       "\n",
       "   Req_Age  Price  DLC count  \\\n",
       "0        0  19.99          0   \n",
       "1        0   0.99          0   \n",
       "2        0   4.99          0   \n",
       "3        0   5.99          0   \n",
       "4        0   0.00          0   \n",
       "\n",
       "                                            Overview  \\\n",
       "0  Galactic Bowling is an exaggerated and stylize...   \n",
       "1  THE LAW!! Looks to be a showdown atop a train....   \n",
       "2  Jolt Project: The army now has a new robotics ...   \n",
       "3  HENOSIS™ is a mysterious 2D Platform Puzzler w...   \n",
       "4  ABOUT THE GAME Play as a hacker who has arrang...   \n",
       "\n",
       "                                            language  ...  \\\n",
       "0                                        ['English']  ...   \n",
       "1  ['English', 'French', 'Italian', 'German', 'Sp...  ...   \n",
       "2                 ['English', 'Portuguese - Brazil']  ...   \n",
       "3  ['English', 'French', 'Italian', 'German', 'Sp...  ...   \n",
       "4                     ['English', 'Spanish - Spain']  ...   \n",
       "\n",
       "  Average_playtime_2weeks Median_playtime_forever Median_playtime_forever  \\\n",
       "0                       0                       0                       0   \n",
       "1                       0                       0                       0   \n",
       "2                       0                       0                       0   \n",
       "3                       0                       0                       0   \n",
       "4                       0                       0                       0   \n",
       "\n",
       "              Developers             Publishers  \\\n",
       "0  Perpetual FX Creative  Perpetual FX Creative   \n",
       "1           Rusty Moyher           Wild Rooster   \n",
       "2          Campião Games          Campião Games   \n",
       "3      Odd Critter Games      Odd Critter Games   \n",
       "4          Unusual Games          Unusual Games   \n",
       "\n",
       "                                          Categories  \\\n",
       "0  Single-player,Multi-player,Steam Achievements,...   \n",
       "1  Single-player,Steam Achievements,Full controll...   \n",
       "2                                      Single-player   \n",
       "3              Single-player,Full controller support   \n",
       "4                   Single-player,Steam Achievements   \n",
       "\n",
       "                            Genres  \\\n",
       "0              Casual,Indie,Sports   \n",
       "1                     Action,Indie   \n",
       "2  Action,Adventure,Indie,Strategy   \n",
       "3           Adventure,Casual,Indie   \n",
       "4                  Adventure,Indie   \n",
       "\n",
       "                                                Tags  \\\n",
       "0                        Indie,Casual,Sports,Bowling   \n",
       "1  Indie,Action,Pixel Graphics,2D,Retro,Arcade,Sc...   \n",
       "2                                                NaN   \n",
       "3  2D Platformer,Atmospheric,Surreal,Mystery,Puzz...   \n",
       "4  Indie,Adventure,Nudity,Violent,Sexual Content,...   \n",
       "\n",
       "                                         Screenshots  \\\n",
       "0  https://cdn.akamai.steamstatic.com/steam/apps/...   \n",
       "1  https://cdn.akamai.steamstatic.com/steam/apps/...   \n",
       "2  https://cdn.akamai.steamstatic.com/steam/apps/...   \n",
       "3  https://cdn.akamai.steamstatic.com/steam/apps/...   \n",
       "4  https://cdn.akamai.steamstatic.com/steam/apps/...   \n",
       "\n",
       "                                              Movies  \n",
       "0  http://cdn.akamai.steamstatic.com/steam/apps/2...  \n",
       "1  http://cdn.akamai.steamstatic.com/steam/apps/2...  \n",
       "2  http://cdn.akamai.steamstatic.com/steam/apps/2...  \n",
       "3  http://cdn.akamai.steamstatic.com/steam/apps/2...  \n",
       "4  http://cdn.akamai.steamstatic.com/steam/apps/2...  \n",
       "\n",
       "[5 rows x 39 columns]"
      ]
     },
     "execution_count": 11,
     "metadata": {},
     "output_type": "execute_result"
    }
   ],
   "source": [
    "df.head()"
   ]
  },
  {
   "cell_type": "markdown",
   "metadata": {
    "id": "dzj9Nv60GFGw"
   },
   "source": [
    "## Switching User's choice to first row"
   ]
  },
  {
   "cell_type": "code",
   "execution_count": 12,
   "metadata": {
    "id": "MsXjInSD1i-Q"
   },
   "outputs": [],
   "source": [
    "index1 = df.loc[df['Name'] == 'Need For Speed: Hot Pursuit'].index[0]"
   ]
  },
  {
   "cell_type": "code",
   "execution_count": 13,
   "metadata": {
    "colab": {
     "base_uri": "https://localhost:8080/"
    },
    "id": "NNo3xuvN5Kmu",
    "outputId": "3d5991fa-a515-41fc-c8d6-8604fa0e11ae"
   },
   "outputs": [
    {
     "name": "stdout",
     "output_type": "stream",
     "text": [
      "9320\n"
     ]
    }
   ],
   "source": [
    "print(index1)"
   ]
  },
  {
   "cell_type": "code",
   "execution_count": 14,
   "metadata": {
    "colab": {
     "base_uri": "https://localhost:8080/"
    },
    "id": "VAEzN9He0jJe",
    "outputId": "b67ed396-fc7f-4832-a8b7-696d5cb447af"
   },
   "outputs": [
    {
     "name": "stderr",
     "output_type": "stream",
     "text": [
      "C:\\Users\\Aditya\\AppData\\Local\\Temp\\ipykernel_37080\\329920085.py:3: FutureWarning: The frame.append method is deprecated and will be removed from pandas in a future version. Use pandas.concat instead.\n",
      "  df = row_to_move.to_frame().transpose().append(df)  # append the row to the top of the DataFrame\n"
     ]
    }
   ],
   "source": [
    "row_to_move = df.iloc[index1]  # save the row as a Series\n",
    "df= df.drop(index1, axis=0)  # remove the row from the DataFrame\n",
    "df = row_to_move.to_frame().transpose().append(df)  # append the row to the top of the DataFrame\n"
   ]
  },
  {
   "cell_type": "code",
   "execution_count": 15,
   "metadata": {
    "id": "s-2ib9Sq0e1q"
   },
   "outputs": [],
   "source": [
    "df=df.reset_index(drop=True)"
   ]
  },
  {
   "cell_type": "code",
   "execution_count": 16,
   "metadata": {
    "colab": {
     "base_uri": "https://localhost:8080/",
     "height": 681
    },
    "id": "L0xnOE4V0jEh",
    "outputId": "9f4097f3-e321-4bbd-84d7-3013d289dc03"
   },
   "outputs": [
    {
     "data": {
      "text/html": [
       "<div>\n",
       "<style scoped>\n",
       "    .dataframe tbody tr th:only-of-type {\n",
       "        vertical-align: middle;\n",
       "    }\n",
       "\n",
       "    .dataframe tbody tr th {\n",
       "        vertical-align: top;\n",
       "    }\n",
       "\n",
       "    .dataframe thead th {\n",
       "        text-align: right;\n",
       "    }\n",
       "</style>\n",
       "<table border=\"1\" class=\"dataframe\">\n",
       "  <thead>\n",
       "    <tr style=\"text-align: right;\">\n",
       "      <th></th>\n",
       "      <th>AppID</th>\n",
       "      <th>Name</th>\n",
       "      <th>Release_Date</th>\n",
       "      <th>Estimated_Owners</th>\n",
       "      <th>Peak_CCU</th>\n",
       "      <th>Req_Age</th>\n",
       "      <th>Price</th>\n",
       "      <th>DLC count</th>\n",
       "      <th>Overview</th>\n",
       "      <th>language</th>\n",
       "      <th>...</th>\n",
       "      <th>Average_playtime_2weeks</th>\n",
       "      <th>Median_playtime_forever</th>\n",
       "      <th>Median_playtime_forever</th>\n",
       "      <th>Developers</th>\n",
       "      <th>Publishers</th>\n",
       "      <th>Categories</th>\n",
       "      <th>Genres</th>\n",
       "      <th>Tags</th>\n",
       "      <th>Screenshots</th>\n",
       "      <th>Movies</th>\n",
       "    </tr>\n",
       "  </thead>\n",
       "  <tbody>\n",
       "    <tr>\n",
       "      <th>0</th>\n",
       "      <td>47870</td>\n",
       "      <td>Need For Speed: Hot Pursuit</td>\n",
       "      <td>Dec 14, 2010</td>\n",
       "      <td>2000000 - 5000000</td>\n",
       "      <td>71</td>\n",
       "      <td>0</td>\n",
       "      <td>0.0</td>\n",
       "      <td>0</td>\n",
       "      <td>Need for Speed Hot Pursuit launches you into a...</td>\n",
       "      <td>['Czech', 'English', 'French', 'German', 'Hung...</td>\n",
       "      <td>...</td>\n",
       "      <td>0</td>\n",
       "      <td>240</td>\n",
       "      <td>0</td>\n",
       "      <td>Criterion Games</td>\n",
       "      <td>Electronic Arts</td>\n",
       "      <td>Single-player,Multi-player,PvP,Online PvP,Stea...</td>\n",
       "      <td>Racing</td>\n",
       "      <td>Racing,Combat Racing,Sports,Driving,PvP,Automo...</td>\n",
       "      <td>https://cdn.akamai.steamstatic.com/steam/apps/...</td>\n",
       "      <td>http://cdn.akamai.steamstatic.com/steam/apps/2...</td>\n",
       "    </tr>\n",
       "    <tr>\n",
       "      <th>1</th>\n",
       "      <td>20200</td>\n",
       "      <td>Galactic Bowling</td>\n",
       "      <td>Oct 21, 2008</td>\n",
       "      <td>0 - 20000</td>\n",
       "      <td>0</td>\n",
       "      <td>0</td>\n",
       "      <td>19.99</td>\n",
       "      <td>0</td>\n",
       "      <td>Galactic Bowling is an exaggerated and stylize...</td>\n",
       "      <td>['English']</td>\n",
       "      <td>...</td>\n",
       "      <td>0</td>\n",
       "      <td>0</td>\n",
       "      <td>0</td>\n",
       "      <td>Perpetual FX Creative</td>\n",
       "      <td>Perpetual FX Creative</td>\n",
       "      <td>Single-player,Multi-player,Steam Achievements,...</td>\n",
       "      <td>Casual,Indie,Sports</td>\n",
       "      <td>Indie,Casual,Sports,Bowling</td>\n",
       "      <td>https://cdn.akamai.steamstatic.com/steam/apps/...</td>\n",
       "      <td>http://cdn.akamai.steamstatic.com/steam/apps/2...</td>\n",
       "    </tr>\n",
       "    <tr>\n",
       "      <th>2</th>\n",
       "      <td>655370</td>\n",
       "      <td>Train Bandit</td>\n",
       "      <td>Oct 12, 2017</td>\n",
       "      <td>0 - 20000</td>\n",
       "      <td>0</td>\n",
       "      <td>0</td>\n",
       "      <td>0.99</td>\n",
       "      <td>0</td>\n",
       "      <td>THE LAW!! Looks to be a showdown atop a train....</td>\n",
       "      <td>['English', 'French', 'Italian', 'German', 'Sp...</td>\n",
       "      <td>...</td>\n",
       "      <td>0</td>\n",
       "      <td>0</td>\n",
       "      <td>0</td>\n",
       "      <td>Rusty Moyher</td>\n",
       "      <td>Wild Rooster</td>\n",
       "      <td>Single-player,Steam Achievements,Full controll...</td>\n",
       "      <td>Action,Indie</td>\n",
       "      <td>Indie,Action,Pixel Graphics,2D,Retro,Arcade,Sc...</td>\n",
       "      <td>https://cdn.akamai.steamstatic.com/steam/apps/...</td>\n",
       "      <td>http://cdn.akamai.steamstatic.com/steam/apps/2...</td>\n",
       "    </tr>\n",
       "    <tr>\n",
       "      <th>3</th>\n",
       "      <td>1732930</td>\n",
       "      <td>Jolt Project</td>\n",
       "      <td>Nov 17, 2021</td>\n",
       "      <td>0 - 20000</td>\n",
       "      <td>0</td>\n",
       "      <td>0</td>\n",
       "      <td>4.99</td>\n",
       "      <td>0</td>\n",
       "      <td>Jolt Project: The army now has a new robotics ...</td>\n",
       "      <td>['English', 'Portuguese - Brazil']</td>\n",
       "      <td>...</td>\n",
       "      <td>0</td>\n",
       "      <td>0</td>\n",
       "      <td>0</td>\n",
       "      <td>Campião Games</td>\n",
       "      <td>Campião Games</td>\n",
       "      <td>Single-player</td>\n",
       "      <td>Action,Adventure,Indie,Strategy</td>\n",
       "      <td>NaN</td>\n",
       "      <td>https://cdn.akamai.steamstatic.com/steam/apps/...</td>\n",
       "      <td>http://cdn.akamai.steamstatic.com/steam/apps/2...</td>\n",
       "    </tr>\n",
       "    <tr>\n",
       "      <th>4</th>\n",
       "      <td>1355720</td>\n",
       "      <td>Henosis™</td>\n",
       "      <td>Jul 23, 2020</td>\n",
       "      <td>0 - 20000</td>\n",
       "      <td>0</td>\n",
       "      <td>0</td>\n",
       "      <td>5.99</td>\n",
       "      <td>0</td>\n",
       "      <td>HENOSIS™ is a mysterious 2D Platform Puzzler w...</td>\n",
       "      <td>['English', 'French', 'Italian', 'German', 'Sp...</td>\n",
       "      <td>...</td>\n",
       "      <td>0</td>\n",
       "      <td>0</td>\n",
       "      <td>0</td>\n",
       "      <td>Odd Critter Games</td>\n",
       "      <td>Odd Critter Games</td>\n",
       "      <td>Single-player,Full controller support</td>\n",
       "      <td>Adventure,Casual,Indie</td>\n",
       "      <td>2D Platformer,Atmospheric,Surreal,Mystery,Puzz...</td>\n",
       "      <td>https://cdn.akamai.steamstatic.com/steam/apps/...</td>\n",
       "      <td>http://cdn.akamai.steamstatic.com/steam/apps/2...</td>\n",
       "    </tr>\n",
       "  </tbody>\n",
       "</table>\n",
       "<p>5 rows × 39 columns</p>\n",
       "</div>"
      ],
      "text/plain": [
       "     AppID                         Name  Release_Date   Estimated_Owners  \\\n",
       "0    47870  Need For Speed: Hot Pursuit  Dec 14, 2010  2000000 - 5000000   \n",
       "1    20200             Galactic Bowling  Oct 21, 2008          0 - 20000   \n",
       "2   655370                 Train Bandit  Oct 12, 2017          0 - 20000   \n",
       "3  1732930                 Jolt Project  Nov 17, 2021          0 - 20000   \n",
       "4  1355720                     Henosis™  Jul 23, 2020          0 - 20000   \n",
       "\n",
       "  Peak_CCU Req_Age  Price DLC count  \\\n",
       "0       71       0    0.0         0   \n",
       "1        0       0  19.99         0   \n",
       "2        0       0   0.99         0   \n",
       "3        0       0   4.99         0   \n",
       "4        0       0   5.99         0   \n",
       "\n",
       "                                            Overview  \\\n",
       "0  Need for Speed Hot Pursuit launches you into a...   \n",
       "1  Galactic Bowling is an exaggerated and stylize...   \n",
       "2  THE LAW!! Looks to be a showdown atop a train....   \n",
       "3  Jolt Project: The army now has a new robotics ...   \n",
       "4  HENOSIS™ is a mysterious 2D Platform Puzzler w...   \n",
       "\n",
       "                                            language  ...  \\\n",
       "0  ['Czech', 'English', 'French', 'German', 'Hung...  ...   \n",
       "1                                        ['English']  ...   \n",
       "2  ['English', 'French', 'Italian', 'German', 'Sp...  ...   \n",
       "3                 ['English', 'Portuguese - Brazil']  ...   \n",
       "4  ['English', 'French', 'Italian', 'German', 'Sp...  ...   \n",
       "\n",
       "  Average_playtime_2weeks Median_playtime_forever Median_playtime_forever  \\\n",
       "0                       0                     240                       0   \n",
       "1                       0                       0                       0   \n",
       "2                       0                       0                       0   \n",
       "3                       0                       0                       0   \n",
       "4                       0                       0                       0   \n",
       "\n",
       "              Developers             Publishers  \\\n",
       "0        Criterion Games        Electronic Arts   \n",
       "1  Perpetual FX Creative  Perpetual FX Creative   \n",
       "2           Rusty Moyher           Wild Rooster   \n",
       "3          Campião Games          Campião Games   \n",
       "4      Odd Critter Games      Odd Critter Games   \n",
       "\n",
       "                                          Categories  \\\n",
       "0  Single-player,Multi-player,PvP,Online PvP,Stea...   \n",
       "1  Single-player,Multi-player,Steam Achievements,...   \n",
       "2  Single-player,Steam Achievements,Full controll...   \n",
       "3                                      Single-player   \n",
       "4              Single-player,Full controller support   \n",
       "\n",
       "                            Genres  \\\n",
       "0                           Racing   \n",
       "1              Casual,Indie,Sports   \n",
       "2                     Action,Indie   \n",
       "3  Action,Adventure,Indie,Strategy   \n",
       "4           Adventure,Casual,Indie   \n",
       "\n",
       "                                                Tags  \\\n",
       "0  Racing,Combat Racing,Sports,Driving,PvP,Automo...   \n",
       "1                        Indie,Casual,Sports,Bowling   \n",
       "2  Indie,Action,Pixel Graphics,2D,Retro,Arcade,Sc...   \n",
       "3                                                NaN   \n",
       "4  2D Platformer,Atmospheric,Surreal,Mystery,Puzz...   \n",
       "\n",
       "                                         Screenshots  \\\n",
       "0  https://cdn.akamai.steamstatic.com/steam/apps/...   \n",
       "1  https://cdn.akamai.steamstatic.com/steam/apps/...   \n",
       "2  https://cdn.akamai.steamstatic.com/steam/apps/...   \n",
       "3  https://cdn.akamai.steamstatic.com/steam/apps/...   \n",
       "4  https://cdn.akamai.steamstatic.com/steam/apps/...   \n",
       "\n",
       "                                              Movies  \n",
       "0  http://cdn.akamai.steamstatic.com/steam/apps/2...  \n",
       "1  http://cdn.akamai.steamstatic.com/steam/apps/2...  \n",
       "2  http://cdn.akamai.steamstatic.com/steam/apps/2...  \n",
       "3  http://cdn.akamai.steamstatic.com/steam/apps/2...  \n",
       "4  http://cdn.akamai.steamstatic.com/steam/apps/2...  \n",
       "\n",
       "[5 rows x 39 columns]"
      ]
     },
     "execution_count": 16,
     "metadata": {},
     "output_type": "execute_result"
    }
   ],
   "source": [
    "df.head()"
   ]
  },
  {
   "cell_type": "markdown",
   "metadata": {
    "id": "bQfg4JCxf6z3"
   },
   "source": [
    "## Put all the needed words in the column called Tags"
   ]
  },
  {
   "cell_type": "code",
   "execution_count": 17,
   "metadata": {
    "id": "kOBH9V1ezAIA"
   },
   "outputs": [],
   "source": [
    "df['Categories'] = df['Categories'].str.replace(\" \", \"\")"
   ]
  },
  {
   "cell_type": "code",
   "execution_count": 18,
   "metadata": {
    "id": "heilSCcF21GF"
   },
   "outputs": [],
   "source": [
    "df['Categories'] = df['Categories'].str.replace(\",\", \" \")"
   ]
  },
  {
   "cell_type": "code",
   "execution_count": 19,
   "metadata": {
    "id": "FimDuO3z2Fj3"
   },
   "outputs": [],
   "source": [
    "df['Tags'] = df['Tags'].str.replace(\" \", \"\")"
   ]
  },
  {
   "cell_type": "code",
   "execution_count": 20,
   "metadata": {
    "id": "mVggh2py2sS5"
   },
   "outputs": [],
   "source": [
    "df['Tags']=df['Tags'].str.replace(\",\", \" \")"
   ]
  },
  {
   "cell_type": "code",
   "execution_count": 21,
   "metadata": {
    "id": "mnTa14Hu2JUZ"
   },
   "outputs": [],
   "source": [
    "df['Genres'] = df['Genres'].str.replace(\" \", \"\")"
   ]
  },
  {
   "cell_type": "code",
   "execution_count": 22,
   "metadata": {
    "id": "hIG21VHn2fxj"
   },
   "outputs": [],
   "source": [
    "df['Genres'] = df['Genres'].str.replace(\",\", \" \")"
   ]
  },
  {
   "cell_type": "code",
   "execution_count": 23,
   "metadata": {
    "id": "O6dSKn2L3czL"
   },
   "outputs": [],
   "source": [
    "df['Tags']=df['Overview']+df['Categories']+df['Genres']+df['Tags']"
   ]
  },
  {
   "cell_type": "code",
   "execution_count": 24,
   "metadata": {
    "colab": {
     "base_uri": "https://localhost:8080/",
     "height": 140
    },
    "id": "mMcNXquv5NC0",
    "outputId": "e06117ec-54e6-4fc4-b9b2-0c81d37f977e"
   },
   "outputs": [
    {
     "data": {
      "text/plain": [
       "\"Need for Speed Hot Pursuit launches you into a new open-world landscape behind the wheel of the world's fastest and most beautiful cars. From Criterion, the award-winning studio behind the Burnout series, Hot Pursuit will redefine racing games for a whole new generation. You'll experience stunning speeds, takedowns, and getaways as you battle your friends in the most connected Need for Speed game ever. Through Need for Speed Autolog and its innovative approach to connected social competition, your Hot Pursuit experience will extend beyond the console onto the web, constantly moving your gameplay in new and unique directions. Loaded with action, this game will challenge you to become Seacrest County's top cop or most wanted racer. For the first time ever in a Need for Speed game, you'll be able to play a full career on either side of the law. Whether you're a lead-foot speeder or a cop with a mean streak, make sure your aviators are spotless and your driving record is anything but. Key Features Career – For the first time in Need For Speed history play full careers as both cops and racers. Whether playing online with friends, taking on Friends challenges or the single player career, players will earn bounty that levels them up and unlocks new cars, weapons and equipment. Need For Speed™ Autolog – In Need for Speed Hot Pursuit, your friends drive your gameplay experience. Autolog is a system that links friends directly to each other’s games, enabling them to compare and share all their experiences, pictures and challenges. Autolog instinctively delivers challenges based on what your friends have been doing, creating a hugely dynamic, socially competitive experience. Cars –In Hot Pursuit, the cars go from hot to hotter. Experience the thrill of driving the world’s most desirable high performance cars at incredible speeds. Feel the power of busting suspects in supercharged cop interceptors like the Lamborghini Reventon or outsmarting the law as a racer in high performance supercars like the Pagani Zonda Cinque. Weapons and equipment – Take down suspects with a variety of cop weapons like spike strips and call in extra support including road blocks as the chase intensifies. Racers have a range of evasion equipment at their disposal to outsmart the cops including jammers that block cop communications and jam their weapons. Seacrest County – Explore a world inspired by the California coastline with desert, forest, seaside and mountainous regions. The open world of Seacrest County helps deliver the most intense cop pursuit moments ever.Single-player Multi-player PvP OnlinePvP SteamTradingCards PartialControllerSupportRacingRacing CombatRacing Sports Driving PvP AutomobileSim OpenWorld ThirdPerson Arcade First-Person Simulation Atmospheric Adventure OnlineCo-Op Action Co-op Multiplayer Singleplayer Controller GreatSoundtrack\""
      ]
     },
     "execution_count": 24,
     "metadata": {},
     "output_type": "execute_result"
    }
   ],
   "source": [
    "df['Tags'][0]"
   ]
  },
  {
   "cell_type": "markdown",
   "metadata": {
    "id": "KjEzq3jpi2Ws"
   },
   "source": [
    "Extracted only the year from the release date and change it to int type"
   ]
  },
  {
   "cell_type": "markdown",
   "metadata": {
    "id": "Tm_yfdtcA7Ku"
   },
   "source": [
    "## Parsing Date"
   ]
  },
  {
   "cell_type": "code",
   "execution_count": 25,
   "metadata": {
    "id": "C77DGP-0gdES"
   },
   "outputs": [],
   "source": [
    "df['Release_Date'] = df['Release_Date'].str.rsplit(',').str[-1] "
   ]
  },
  {
   "cell_type": "code",
   "execution_count": 26,
   "metadata": {
    "id": "WjONBewGgh7W"
   },
   "outputs": [],
   "source": [
    "df['Release_Date'] = df['Release_Date'].str.replace(\" \", \"\")"
   ]
  },
  {
   "cell_type": "code",
   "execution_count": 27,
   "metadata": {
    "id": "JkAEdnRbhrrG"
   },
   "outputs": [],
   "source": [
    "df= df[df['Release_Date'].str.len() <=4]"
   ]
  },
  {
   "cell_type": "code",
   "execution_count": 28,
   "metadata": {
    "colab": {
     "base_uri": "https://localhost:8080/"
    },
    "id": "dJJxrGR1g0iz",
    "outputId": "22f7e92f-d073-46fe-fa8c-9fec20cd3b1b"
   },
   "outputs": [],
   "source": [
    "df['Release_Date'] = df['Release_Date'].astype('int')"
   ]
  },
  {
   "cell_type": "markdown",
   "metadata": {
    "id": "ykQijdI9jxqt"
   },
   "source": [
    "Below is your needed dataframe, feel free to add any columns that you feel will be useful.\n",
    "-All the columns are integers or floats excpet the \"Tags\" of course.\n",
    "- You can split and merge the column as you wish to build your recommendation system"
   ]
  },
  {
   "cell_type": "code",
   "execution_count": 29,
   "metadata": {
    "id": "_XOI9SsdgBOb"
   },
   "outputs": [],
   "source": [
    "cols = ['Price', 'User_Score', 'Positive', 'Negative', 'Score_Rank', 'Achievements',\n",
    "        'Recommendations', 'Tags', 'Release_Date', 'Name']\n"
   ]
  },
  {
   "cell_type": "code",
   "execution_count": 30,
   "metadata": {
    "colab": {
     "base_uri": "https://localhost:8080/"
    },
    "id": "O5ICspF6xz5_",
    "outputId": "356794e4-d7f4-4194-921b-4d0105a8acb9"
   },
   "outputs": [],
   "source": [
    "data=df[cols]"
   ]
  },
  {
   "cell_type": "code",
   "execution_count": 31,
   "metadata": {
    "id": "uRJuXnMrEFEg"
   },
   "outputs": [],
   "source": [
    "data = data.reindex(columns=['Price','User_Score','Positive','Negative','Achievements',\n",
    "      'Recommendations','Tags','Release_Date','Name'])"
   ]
  },
  {
   "cell_type": "code",
   "execution_count": 32,
   "metadata": {
    "colab": {
     "base_uri": "https://localhost:8080/"
    },
    "id": "r-wnEMX1Aj0r",
    "outputId": "383267c1-70d1-4980-dcb6-c4732ce277ed"
   },
   "outputs": [
    {
     "data": {
      "text/plain": [
       "(19967, 9)"
      ]
     },
     "execution_count": 32,
     "metadata": {},
     "output_type": "execute_result"
    }
   ],
   "source": [
    "data.shape"
   ]
  },
  {
   "cell_type": "code",
   "execution_count": 33,
   "metadata": {
    "colab": {
     "base_uri": "https://localhost:8080/",
     "height": 354
    },
    "id": "mXBLTj3xj_gC",
    "outputId": "4eb54ed3-0122-48fd-b272-f44f428fded2"
   },
   "outputs": [
    {
     "data": {
      "text/html": [
       "<div>\n",
       "<style scoped>\n",
       "    .dataframe tbody tr th:only-of-type {\n",
       "        vertical-align: middle;\n",
       "    }\n",
       "\n",
       "    .dataframe tbody tr th {\n",
       "        vertical-align: top;\n",
       "    }\n",
       "\n",
       "    .dataframe thead th {\n",
       "        text-align: right;\n",
       "    }\n",
       "</style>\n",
       "<table border=\"1\" class=\"dataframe\">\n",
       "  <thead>\n",
       "    <tr style=\"text-align: right;\">\n",
       "      <th></th>\n",
       "      <th>Price</th>\n",
       "      <th>User_Score</th>\n",
       "      <th>Positive</th>\n",
       "      <th>Negative</th>\n",
       "      <th>Achievements</th>\n",
       "      <th>Recommendations</th>\n",
       "      <th>Tags</th>\n",
       "      <th>Release_Date</th>\n",
       "      <th>Name</th>\n",
       "    </tr>\n",
       "  </thead>\n",
       "  <tbody>\n",
       "    <tr>\n",
       "      <th>0</th>\n",
       "      <td>0.0</td>\n",
       "      <td>0</td>\n",
       "      <td>16047</td>\n",
       "      <td>3455</td>\n",
       "      <td>0</td>\n",
       "      <td>17081</td>\n",
       "      <td>Need for Speed Hot Pursuit launches you into a...</td>\n",
       "      <td>2010</td>\n",
       "      <td>Need For Speed: Hot Pursuit</td>\n",
       "    </tr>\n",
       "    <tr>\n",
       "      <th>1</th>\n",
       "      <td>19.99</td>\n",
       "      <td>0</td>\n",
       "      <td>6</td>\n",
       "      <td>11</td>\n",
       "      <td>30</td>\n",
       "      <td>0</td>\n",
       "      <td>Galactic Bowling is an exaggerated and stylize...</td>\n",
       "      <td>2008</td>\n",
       "      <td>Galactic Bowling</td>\n",
       "    </tr>\n",
       "    <tr>\n",
       "      <th>2</th>\n",
       "      <td>0.99</td>\n",
       "      <td>0</td>\n",
       "      <td>53</td>\n",
       "      <td>5</td>\n",
       "      <td>12</td>\n",
       "      <td>0</td>\n",
       "      <td>THE LAW!! Looks to be a showdown atop a train....</td>\n",
       "      <td>2017</td>\n",
       "      <td>Train Bandit</td>\n",
       "    </tr>\n",
       "    <tr>\n",
       "      <th>3</th>\n",
       "      <td>4.99</td>\n",
       "      <td>0</td>\n",
       "      <td>0</td>\n",
       "      <td>0</td>\n",
       "      <td>0</td>\n",
       "      <td>0</td>\n",
       "      <td>NaN</td>\n",
       "      <td>2021</td>\n",
       "      <td>Jolt Project</td>\n",
       "    </tr>\n",
       "    <tr>\n",
       "      <th>4</th>\n",
       "      <td>5.99</td>\n",
       "      <td>0</td>\n",
       "      <td>3</td>\n",
       "      <td>0</td>\n",
       "      <td>0</td>\n",
       "      <td>0</td>\n",
       "      <td>HENOSIS™ is a mysterious 2D Platform Puzzler w...</td>\n",
       "      <td>2020</td>\n",
       "      <td>Henosis™</td>\n",
       "    </tr>\n",
       "  </tbody>\n",
       "</table>\n",
       "</div>"
      ],
      "text/plain": [
       "   Price User_Score Positive Negative Achievements Recommendations  \\\n",
       "0    0.0          0    16047     3455            0           17081   \n",
       "1  19.99          0        6       11           30               0   \n",
       "2   0.99          0       53        5           12               0   \n",
       "3   4.99          0        0        0            0               0   \n",
       "4   5.99          0        3        0            0               0   \n",
       "\n",
       "                                                Tags  Release_Date  \\\n",
       "0  Need for Speed Hot Pursuit launches you into a...          2010   \n",
       "1  Galactic Bowling is an exaggerated and stylize...          2008   \n",
       "2  THE LAW!! Looks to be a showdown atop a train....          2017   \n",
       "3                                                NaN          2021   \n",
       "4  HENOSIS™ is a mysterious 2D Platform Puzzler w...          2020   \n",
       "\n",
       "                          Name  \n",
       "0  Need For Speed: Hot Pursuit  \n",
       "1             Galactic Bowling  \n",
       "2                 Train Bandit  \n",
       "3                 Jolt Project  \n",
       "4                     Henosis™  "
      ]
     },
     "execution_count": 33,
     "metadata": {},
     "output_type": "execute_result"
    }
   ],
   "source": [
    "data.head()"
   ]
  },
  {
   "cell_type": "markdown",
   "metadata": {
    "id": "0c9EVRmKDeLX"
   },
   "source": [
    "## Transform to int"
   ]
  },
  {
   "cell_type": "code",
   "execution_count": 34,
   "metadata": {
    "colab": {
     "base_uri": "https://localhost:8080/"
    },
    "id": "99hJ3s-6Df5h",
    "outputId": "7e97453f-1fb9-4ba6-8028-96d31b43c891"
   },
   "outputs": [],
   "source": [
    "data.iloc[:, :6] = data.iloc[:, :6].astype(int)"
   ]
  },
  {
   "cell_type": "code",
   "execution_count": null,
   "metadata": {
    "id": "dm9Z-m08Gy5V"
   },
   "outputs": [],
   "source": []
  },
  {
   "cell_type": "markdown",
   "metadata": {
    "id": "Yw9UjXf-Dci0"
   },
   "source": [
    "## Scale"
   ]
  },
  {
   "cell_type": "code",
   "execution_count": 35,
   "metadata": {
    "id": "peEb6PWgDZfx"
   },
   "outputs": [],
   "source": [
    "scaler = MinMaxScaler()"
   ]
  },
  {
   "cell_type": "code",
   "execution_count": 36,
   "metadata": {
    "id": "MuOleDzcE50L"
   },
   "outputs": [],
   "source": [
    "data_first_6 = data.iloc[:, :6]\n",
    "data_scaled_first_6 = pd.DataFrame(scaler.fit_transform(data_first_6), columns=data_first_6.columns)\n",
    "data = pd.concat([data_scaled_first_6, data.iloc[:, 6:]], axis=1)"
   ]
  },
  {
   "cell_type": "markdown",
   "metadata": {
    "id": "q557N4o5A3Wb"
   },
   "source": [
    "# Content Based RecSys"
   ]
  },
  {
   "cell_type": "code",
   "execution_count": 37,
   "metadata": {
    "colab": {
     "base_uri": "https://localhost:8080/"
    },
    "id": "ZOtLbULRDicL",
    "outputId": "de02d824-df6b-4e2d-b240-baf9c76ad3b5"
   },
   "outputs": [
    {
     "name": "stderr",
     "output_type": "stream",
     "text": [
      "C:\\Users\\Aditya\\AppData\\Local\\Temp\\ipykernel_37080\\1840813370.py:3: FutureWarning: The default value of regex will change from True to False in a future version.\n",
      "  data['Tags'] = df['Tags'].str.replace('\\s+', ' ')\n"
     ]
    }
   ],
   "source": [
    "data = data.fillna('')\n",
    "# Remove consecutive spaces resulting from NaN values\n",
    "data['Tags'] = df['Tags'].str.replace('\\s+', ' ')\n"
   ]
  },
  {
   "cell_type": "code",
   "execution_count": 38,
   "metadata": {
    "colab": {
     "base_uri": "https://localhost:8080/"
    },
    "id": "mhWtZvZwEDg2",
    "outputId": "6b3e5a29-854c-4639-ac89-f22962dd6d22"
   },
   "outputs": [
    {
     "name": "stdout",
     "output_type": "stream",
     "text": [
      "2\n"
     ]
    }
   ],
   "source": [
    "contains_nan = data['Tags'].str.contains('NaN')\n",
    "\n",
    "# Count the number of cells containing 'NaN'\n",
    "num_nan = contains_nan.sum()\n",
    "print(num_nan)"
   ]
  },
  {
   "cell_type": "code",
   "execution_count": 39,
   "metadata": {
    "id": "fO2oNYUgxaJ4"
   },
   "outputs": [],
   "source": [
    "from sklearn.feature_extraction.text import CountVectorizer \n",
    "cv=CountVectorizer(max_features=5000,stop_words='english')\n"
   ]
  },
  {
   "cell_type": "code",
   "execution_count": 40,
   "metadata": {
    "id": "QSFee0eXxaGh"
   },
   "outputs": [],
   "source": [
    "vector=cv.fit_transform(data['Tags'].fillna('')).toarray()"
   ]
  },
  {
   "cell_type": "code",
   "execution_count": 41,
   "metadata": {
    "id": "d1HY7YbfFANt"
   },
   "outputs": [
    {
     "name": "stderr",
     "output_type": "stream",
     "text": [
      "C:\\Users\\Aditya\\anaconda3\\lib\\site-packages\\sklearn\\utils\\extmath.py:189: RuntimeWarning: invalid value encountered in matmul\n",
      "  ret = a @ b\n"
     ]
    }
   ],
   "source": [
    "similarity=cosine_similarity(vector)"
   ]
  },
  {
   "cell_type": "code",
   "execution_count": 42,
   "metadata": {
    "id": "Qj8nSCZLxaEe"
   },
   "outputs": [],
   "source": [
    "game_list=sorted(list(enumerate(similarity[0])),reverse=True, key=lambda x:x[1])[1:11]"
   ]
  },
  {
   "cell_type": "code",
   "execution_count": 43,
   "metadata": {
    "colab": {
     "base_uri": "https://localhost:8080/"
    },
    "id": "vCIxsoSwxaAW",
    "outputId": "50538ee6-20be-4f97-91e4-4573f6c8a76a"
   },
   "outputs": [
    {
     "name": "stdout",
     "output_type": "stream",
     "text": [
      "[(11947, 0.3740364628637751), (1574, 0.34051394165786086), (16743, 0.33616063870446883), (3967, 0.33450324496540335), (19657, 0.33293279852146107), (2038, 0.3226259529819746), (9652, 0.32002697883835496), (19263, 0.31864620794406795), (12600, 0.3159940365288875), (9037, 0.31535065032891485)]\n"
     ]
    }
   ],
   "source": [
    "print(game_list)"
   ]
  },
  {
   "cell_type": "markdown",
   "metadata": {
    "id": "BpZ9guH8c4ED"
   },
   "source": [
    "## Put list into dataframe"
   ]
  },
  {
   "cell_type": "code",
   "execution_count": 44,
   "metadata": {
    "id": "dzMSJJx0aa5r"
   },
   "outputs": [],
   "source": [
    "game_ids=[]"
   ]
  },
  {
   "cell_type": "code",
   "execution_count": 45,
   "metadata": {
    "id": "c7ry6KN-c_rs"
   },
   "outputs": [],
   "source": [
    "def Get_IDs(game_ids,hlist): \n",
    "  for i in hlist:\n",
    "   game_ids.append(i[0])"
   ]
  },
  {
   "cell_type": "code",
   "execution_count": 46,
   "metadata": {
    "id": "JoWED9cmgpcF"
   },
   "outputs": [],
   "source": [
    "Get_IDs(game_ids,game_list)"
   ]
  },
  {
   "cell_type": "code",
   "execution_count": 47,
   "metadata": {
    "colab": {
     "base_uri": "https://localhost:8080/"
    },
    "id": "BYPTTb4qglqc",
    "outputId": "20808b67-85a0-4bce-ad5a-739ea8f29a6c"
   },
   "outputs": [
    {
     "data": {
      "text/plain": [
       "[11947, 1574, 16743, 3967, 19657, 2038, 9652, 19263, 12600, 9037]"
      ]
     },
     "execution_count": 47,
     "metadata": {},
     "output_type": "execute_result"
    }
   ],
   "source": [
    "game_ids"
   ]
  },
  {
   "cell_type": "code",
   "execution_count": 48,
   "metadata": {
    "id": "NybkuYzmiYNu"
   },
   "outputs": [],
   "source": [
    "list_of_games=pd.DataFrame(index=range(10), columns=range(9))"
   ]
  },
  {
   "cell_type": "code",
   "execution_count": 49,
   "metadata": {
    "id": "GpkCGl4MjBi2"
   },
   "outputs": [],
   "source": [
    "index=-1\n",
    "for i in game_ids:\n",
    "  index=index+1\n",
    "  list_of_games.iloc[index]=data.iloc[i]"
   ]
  },
  {
   "cell_type": "code",
   "execution_count": 50,
   "metadata": {
    "id": "_eOPpvlakVut"
   },
   "outputs": [],
   "source": [
    "list_of_games = list_of_games.rename(columns={0:'Price', 1: 'User_Score',\n",
    "                                              2:'Positive',\n",
    "                                              3:'Negative',\n",
    "                                              4:'Achievements',\n",
    "                                              5:'Recommendations',\n",
    "                                              6:'Tags',\n",
    "                                              7:'Release_Date',\n",
    "                                              8:'Name'})"
   ]
  },
  {
   "cell_type": "markdown",
   "metadata": {
    "id": "FrUsPSGpIFbx"
   },
   "source": [
    "## Ordering"
   ]
  },
  {
   "cell_type": "code",
   "execution_count": 51,
   "metadata": {
    "id": "O8RlR5qJIOXe"
   },
   "outputs": [],
   "source": [
    "list_of_games['XFactor']=list_of_games['Positive']+list_of_games['User_Score']+list_of_games['Recommendations']"
   ]
  },
  {
   "cell_type": "code",
   "execution_count": 52,
   "metadata": {
    "id": "CRyh03iEkJnU"
   },
   "outputs": [],
   "source": [
    "price_ordered=list_of_games.sort_values(by=['Price'],ascending=True)"
   ]
  },
  {
   "cell_type": "code",
   "execution_count": 53,
   "metadata": {
    "id": "Du-f97-xBb7i"
   },
   "outputs": [],
   "source": [
    "Release_Ordered=list_of_games.sort_values(by=['Release_Date'],ascending=False)"
   ]
  },
  {
   "cell_type": "code",
   "execution_count": 54,
   "metadata": {
    "id": "1LpiYTdgIE1f"
   },
   "outputs": [],
   "source": [
    "XFactor_Ordered=list_of_games.sort_values(by=['XFactor'],ascending=False)"
   ]
  },
  {
   "cell_type": "code",
   "execution_count": 55,
   "metadata": {
    "id": "o-8ZKRz8TH9O"
   },
   "outputs": [],
   "source": [
    "list_of_games['Price']=(list_of_games['Price']+8.22)"
   ]
  },
  {
   "cell_type": "code",
   "execution_count": 56,
   "metadata": {
    "id": "SXTGf7iwxZ8N"
   },
   "outputs": [],
   "source": [
    "def ListGames(data):\n",
    "  for index, row in data.iterrows():\n",
    "    print(row['Name'])"
   ]
  },
  {
   "cell_type": "code",
   "execution_count": 57,
   "metadata": {
    "colab": {
     "base_uri": "https://localhost:8080/"
    },
    "id": "SjgR8RQDS3mO",
    "outputId": "2efa84d1-81d4-485a-9cb5-0ce738bb7602"
   },
   "outputs": [
    {
     "name": "stdout",
     "output_type": "stream",
     "text": [
      "Forza Horizon 5\n",
      "Need for Speed™\n",
      "DIRT 5\n",
      "Extreme Skiing VR\n",
      "Night Racer\n",
      "Need for Speed™ Payback\n",
      "Hotshot Racing\n",
      "Spellgear\n",
      "Need for Speed™ Heat\n",
      "Hover\n"
     ]
    }
   ],
   "source": [
    "ListGames(list_of_games)"
   ]
  },
  {
   "cell_type": "code",
   "execution_count": 58,
   "metadata": {
    "colab": {
     "base_uri": "https://localhost:8080/"
    },
    "id": "NX5jXteBxZ6T",
    "outputId": "ef1bb7a2-203f-4608-e07c-0b60102c9070"
   },
   "outputs": [
    {
     "name": "stdout",
     "output_type": "stream",
     "text": [
      "Forza Horizon 5\n",
      "DIRT 5\n",
      "Extreme Skiing VR\n",
      "Need for Speed™\n",
      "Need for Speed™ Payback\n",
      "Hotshot Racing\n",
      "Spellgear\n",
      "Night Racer\n",
      "Need for Speed™ Heat\n",
      "Hover\n"
     ]
    }
   ],
   "source": [
    "ListGames(price_ordered)"
   ]
  },
  {
   "cell_type": "code",
   "execution_count": 59,
   "metadata": {
    "colab": {
     "base_uri": "https://localhost:8080/"
    },
    "id": "BICk_v50BlCB",
    "outputId": "9258aec6-4d86-4c75-fb52-8abdbb673b1d"
   },
   "outputs": [
    {
     "name": "stdout",
     "output_type": "stream",
     "text": [
      "Night Racer\n",
      "Forza Horizon 5\n",
      "Need for Speed™\n",
      "DIRT 5\n",
      "Need for Speed™ Payback\n",
      "Hotshot Racing\n",
      "Need for Speed™ Heat\n",
      "Spellgear\n",
      "Hover\n",
      "Extreme Skiing VR\n"
     ]
    }
   ],
   "source": [
    "ListGames(Release_Ordered)"
   ]
  },
  {
   "cell_type": "code",
   "execution_count": 60,
   "metadata": {
    "colab": {
     "base_uri": "https://localhost:8080/"
    },
    "id": "nWXX88KHBwq9",
    "outputId": "67af1025-5ec5-4e9a-f615-13bf3283c414"
   },
   "outputs": [
    {
     "name": "stdout",
     "output_type": "stream",
     "text": [
      "Hover\n",
      "Night Racer\n",
      "Spellgear\n",
      "Forza Horizon 5\n",
      "DIRT 5\n",
      "Extreme Skiing VR\n",
      "Need for Speed™ Payback\n",
      "Hotshot Racing\n",
      "Need for Speed™ Heat\n",
      "Need for Speed™\n"
     ]
    }
   ],
   "source": [
    "ListGames(XFactor_Ordered)"
   ]
  },
  {
   "cell_type": "markdown",
   "metadata": {
    "id": "J1a0D2-KIvC6"
   },
   "source": [
    "# User-History Based Recsys"
   ]
  },
  {
   "cell_type": "markdown",
   "metadata": {
    "id": "bTait8bXU8zn"
   },
   "source": [
    "## PCA on data matrix"
   ]
  },
  {
   "cell_type": "code",
   "execution_count": 61,
   "metadata": {
    "id": "4b3wg-eWHDLg"
   },
   "outputs": [],
   "source": [
    "pca = PCA(n_components=None)"
   ]
  },
  {
   "cell_type": "code",
   "execution_count": 62,
   "metadata": {
    "id": "uNXi6O0UHDJq"
   },
   "outputs": [],
   "source": [
    "dfx_pca = pca.fit(vector)"
   ]
  },
  {
   "cell_type": "code",
   "execution_count": 63,
   "metadata": {
    "id": "MZPpk3H8VDbf"
   },
   "outputs": [],
   "source": [
    "r=[]\n",
    "for i in range(len(dfx_pca.explained_variance_ratio_)):\n",
    "  r.append(i+1)"
   ]
  },
  {
   "cell_type": "code",
   "execution_count": 64,
   "metadata": {
    "colab": {
     "base_uri": "https://localhost:8080/",
     "height": 662
    },
    "id": "gmBC_cZwJwPb",
    "outputId": "a73ae25d-3c36-48e7-b695-ddbb6451697c"
   },
   "outputs": [
    {
     "data": {
      "image/png": "[encoded data removed]",
      "text/plain": [
       "<Figure size 1000x600 with 1 Axes>"
      ]
     },
     "metadata": {},
     "output_type": "display_data"
    }
   ],
   "source": [
    "plt.figure(figsize=(10,6))\n",
    "plt.scatter(x=r,\n",
    "            y=dfx_pca.explained_variance_ratio_,\n",
    "           s=200, alpha=0.75,c='orange',edgecolor='k')\n",
    "plt.grid(True)\n",
    "plt.title(\"Explained variance ratio of the \\nfitted principal component vector\\n\",fontsize=25)\n",
    "plt.xlabel(\"Principal components\",fontsize=15)\n",
    "#plt.xticks([i+1 for i in range(len(dfx_pca.explained_variance_ratio_))],fontsize=15)\n",
    "plt.yticks(fontsize=15)\n",
    "plt.ylabel(\"Explained variance ratio\",fontsize=15)\n",
    "plt.show()"
   ]
  },
  {
   "cell_type": "code",
   "execution_count": 65,
   "metadata": {
    "colab": {
     "base_uri": "https://localhost:8080/"
    },
    "id": "NMUi_9koe2nj",
    "outputId": "afb5762d-55a1-4e2a-9030-ff0dbfcd7e44"
   },
   "outputs": [
    {
     "name": "stdout",
     "output_type": "stream",
     "text": [
      "1053\n"
     ]
    }
   ],
   "source": [
    "total=0\n",
    "for i in range(len(dfx_pca.explained_variance_ratio_)):\n",
    "    total=total+dfx_pca.explained_variance_ratio_[i]\n",
    "    if total>0.8:\n",
    "     n=i\n",
    "     print(n)\n",
    "     break"
   ]
  },
  {
   "cell_type": "code",
   "execution_count": 66,
   "metadata": {
    "id": "-ZT3W8wDf4s2"
   },
   "outputs": [],
   "source": [
    "pca = PCA(n_components=n)"
   ]
  },
  {
   "cell_type": "code",
   "execution_count": 67,
   "metadata": {
    "id": "9GpgQGWigHZI"
   },
   "outputs": [],
   "source": [
    "finaldf = pca.fit(vector)"
   ]
  },
  {
   "cell_type": "code",
   "execution_count": 68,
   "metadata": {
    "id": "69cx4QgBTIOW"
   },
   "outputs": [],
   "source": [
    "finaldf=pca.transform(vector)"
   ]
  },
  {
   "cell_type": "code",
   "execution_count": 69,
   "metadata": {
    "id": "QlE253ZkV4V7"
   },
   "outputs": [],
   "source": [
    "finaldf=pd.DataFrame(finaldf)"
   ]
  },
  {
   "cell_type": "code",
   "execution_count": 70,
   "metadata": {
    "colab": {
     "base_uri": "https://localhost:8080/",
     "height": 488
    },
    "id": "lPbjy_k5WAE5",
    "outputId": "5f7cea8a-af18-49f5-dd4a-9e5fac8a505a"
   },
   "outputs": [
    {
     "data": {
      "text/html": [
       "<div>\n",
       "<style scoped>\n",
       "    .dataframe tbody tr th:only-of-type {\n",
       "        vertical-align: middle;\n",
       "    }\n",
       "\n",
       "    .dataframe tbody tr th {\n",
       "        vertical-align: top;\n",
       "    }\n",
       "\n",
       "    .dataframe thead th {\n",
       "        text-align: right;\n",
       "    }\n",
       "</style>\n",
       "<table border=\"1\" class=\"dataframe\">\n",
       "  <thead>\n",
       "    <tr style=\"text-align: right;\">\n",
       "      <th></th>\n",
       "      <th>0</th>\n",
       "      <th>1</th>\n",
       "      <th>2</th>\n",
       "      <th>3</th>\n",
       "      <th>4</th>\n",
       "      <th>5</th>\n",
       "      <th>6</th>\n",
       "      <th>7</th>\n",
       "      <th>8</th>\n",
       "      <th>9</th>\n",
       "      <th>...</th>\n",
       "      <th>1043</th>\n",
       "      <th>1044</th>\n",
       "      <th>1045</th>\n",
       "      <th>1046</th>\n",
       "      <th>1047</th>\n",
       "      <th>1048</th>\n",
       "      <th>1049</th>\n",
       "      <th>1050</th>\n",
       "      <th>1051</th>\n",
       "      <th>1052</th>\n",
       "    </tr>\n",
       "  </thead>\n",
       "  <tbody>\n",
       "    <tr>\n",
       "      <th>0</th>\n",
       "      <td>6.009344</td>\n",
       "      <td>-4.105021</td>\n",
       "      <td>-0.158298</td>\n",
       "      <td>0.112397</td>\n",
       "      <td>-3.380197</td>\n",
       "      <td>-0.262395</td>\n",
       "      <td>1.829157</td>\n",
       "      <td>-1.679241</td>\n",
       "      <td>-2.111836</td>\n",
       "      <td>0.605949</td>\n",
       "      <td>...</td>\n",
       "      <td>-0.541853</td>\n",
       "      <td>-0.016386</td>\n",
       "      <td>-0.496421</td>\n",
       "      <td>0.029768</td>\n",
       "      <td>-0.008603</td>\n",
       "      <td>0.163754</td>\n",
       "      <td>-0.188795</td>\n",
       "      <td>0.394773</td>\n",
       "      <td>-0.161377</td>\n",
       "      <td>-0.149056</td>\n",
       "    </tr>\n",
       "    <tr>\n",
       "      <th>1</th>\n",
       "      <td>3.857342</td>\n",
       "      <td>-1.164547</td>\n",
       "      <td>-4.204653</td>\n",
       "      <td>-1.304215</td>\n",
       "      <td>-1.401527</td>\n",
       "      <td>0.056480</td>\n",
       "      <td>-0.233718</td>\n",
       "      <td>2.344752</td>\n",
       "      <td>1.066224</td>\n",
       "      <td>0.072569</td>\n",
       "      <td>...</td>\n",
       "      <td>-0.100180</td>\n",
       "      <td>0.210655</td>\n",
       "      <td>0.302996</td>\n",
       "      <td>-0.108146</td>\n",
       "      <td>-0.087933</td>\n",
       "      <td>-0.070669</td>\n",
       "      <td>0.099805</td>\n",
       "      <td>0.187367</td>\n",
       "      <td>0.086328</td>\n",
       "      <td>0.040059</td>\n",
       "    </tr>\n",
       "    <tr>\n",
       "      <th>2</th>\n",
       "      <td>-0.729502</td>\n",
       "      <td>0.687477</td>\n",
       "      <td>-0.641385</td>\n",
       "      <td>0.032785</td>\n",
       "      <td>0.236546</td>\n",
       "      <td>0.826429</td>\n",
       "      <td>-1.006304</td>\n",
       "      <td>-0.444173</td>\n",
       "      <td>-0.396475</td>\n",
       "      <td>-0.114984</td>\n",
       "      <td>...</td>\n",
       "      <td>-0.169121</td>\n",
       "      <td>-0.192491</td>\n",
       "      <td>0.086150</td>\n",
       "      <td>0.185080</td>\n",
       "      <td>0.051237</td>\n",
       "      <td>-0.047492</td>\n",
       "      <td>0.048603</td>\n",
       "      <td>-0.021308</td>\n",
       "      <td>0.247366</td>\n",
       "      <td>0.032664</td>\n",
       "    </tr>\n",
       "    <tr>\n",
       "      <th>3</th>\n",
       "      <td>-3.499565</td>\n",
       "      <td>0.541343</td>\n",
       "      <td>-0.541699</td>\n",
       "      <td>0.766620</td>\n",
       "      <td>-0.036341</td>\n",
       "      <td>-0.368553</td>\n",
       "      <td>-0.222674</td>\n",
       "      <td>-0.072639</td>\n",
       "      <td>-0.326582</td>\n",
       "      <td>0.175338</td>\n",
       "      <td>...</td>\n",
       "      <td>-0.005458</td>\n",
       "      <td>0.004847</td>\n",
       "      <td>-0.001243</td>\n",
       "      <td>0.000918</td>\n",
       "      <td>0.004861</td>\n",
       "      <td>-0.004590</td>\n",
       "      <td>-0.004741</td>\n",
       "      <td>0.002375</td>\n",
       "      <td>0.001710</td>\n",
       "      <td>-0.000981</td>\n",
       "    </tr>\n",
       "    <tr>\n",
       "      <th>4</th>\n",
       "      <td>-0.772277</td>\n",
       "      <td>-1.427576</td>\n",
       "      <td>0.550445</td>\n",
       "      <td>-1.955713</td>\n",
       "      <td>-0.572065</td>\n",
       "      <td>0.527786</td>\n",
       "      <td>1.089030</td>\n",
       "      <td>1.360639</td>\n",
       "      <td>-1.549569</td>\n",
       "      <td>-2.682784</td>\n",
       "      <td>...</td>\n",
       "      <td>-0.115732</td>\n",
       "      <td>-0.067592</td>\n",
       "      <td>0.012641</td>\n",
       "      <td>0.177056</td>\n",
       "      <td>0.079585</td>\n",
       "      <td>0.102520</td>\n",
       "      <td>0.057136</td>\n",
       "      <td>0.034569</td>\n",
       "      <td>0.113968</td>\n",
       "      <td>0.129216</td>\n",
       "    </tr>\n",
       "    <tr>\n",
       "      <th>...</th>\n",
       "      <td>...</td>\n",
       "      <td>...</td>\n",
       "      <td>...</td>\n",
       "      <td>...</td>\n",
       "      <td>...</td>\n",
       "      <td>...</td>\n",
       "      <td>...</td>\n",
       "      <td>...</td>\n",
       "      <td>...</td>\n",
       "      <td>...</td>\n",
       "      <td>...</td>\n",
       "      <td>...</td>\n",
       "      <td>...</td>\n",
       "      <td>...</td>\n",
       "      <td>...</td>\n",
       "      <td>...</td>\n",
       "      <td>...</td>\n",
       "      <td>...</td>\n",
       "      <td>...</td>\n",
       "      <td>...</td>\n",
       "      <td>...</td>\n",
       "    </tr>\n",
       "    <tr>\n",
       "      <th>19995</th>\n",
       "      <td>3.738281</td>\n",
       "      <td>-0.762746</td>\n",
       "      <td>-4.684094</td>\n",
       "      <td>-0.318962</td>\n",
       "      <td>0.471780</td>\n",
       "      <td>0.268400</td>\n",
       "      <td>-0.339242</td>\n",
       "      <td>5.473336</td>\n",
       "      <td>0.357536</td>\n",
       "      <td>-3.425327</td>\n",
       "      <td>...</td>\n",
       "      <td>0.049221</td>\n",
       "      <td>-0.363548</td>\n",
       "      <td>-0.147096</td>\n",
       "      <td>-0.035946</td>\n",
       "      <td>0.058999</td>\n",
       "      <td>-0.236781</td>\n",
       "      <td>-0.058287</td>\n",
       "      <td>-0.414197</td>\n",
       "      <td>-0.114752</td>\n",
       "      <td>0.150551</td>\n",
       "    </tr>\n",
       "    <tr>\n",
       "      <th>19996</th>\n",
       "      <td>2.267348</td>\n",
       "      <td>-1.473643</td>\n",
       "      <td>0.608813</td>\n",
       "      <td>1.277134</td>\n",
       "      <td>0.544269</td>\n",
       "      <td>3.313697</td>\n",
       "      <td>-1.432982</td>\n",
       "      <td>1.577801</td>\n",
       "      <td>-1.985723</td>\n",
       "      <td>0.152232</td>\n",
       "      <td>...</td>\n",
       "      <td>-0.176098</td>\n",
       "      <td>0.429336</td>\n",
       "      <td>-0.302029</td>\n",
       "      <td>-0.307084</td>\n",
       "      <td>0.255730</td>\n",
       "      <td>-0.165376</td>\n",
       "      <td>-0.143548</td>\n",
       "      <td>0.273094</td>\n",
       "      <td>-0.248838</td>\n",
       "      <td>-0.122704</td>\n",
       "    </tr>\n",
       "    <tr>\n",
       "      <th>19997</th>\n",
       "      <td>-1.390138</td>\n",
       "      <td>-0.144814</td>\n",
       "      <td>0.248404</td>\n",
       "      <td>-0.490436</td>\n",
       "      <td>0.429808</td>\n",
       "      <td>0.122241</td>\n",
       "      <td>-0.238757</td>\n",
       "      <td>-0.512848</td>\n",
       "      <td>0.180543</td>\n",
       "      <td>0.139951</td>\n",
       "      <td>...</td>\n",
       "      <td>-0.116139</td>\n",
       "      <td>-0.111286</td>\n",
       "      <td>0.104585</td>\n",
       "      <td>-0.277528</td>\n",
       "      <td>0.064150</td>\n",
       "      <td>-0.005843</td>\n",
       "      <td>0.054929</td>\n",
       "      <td>0.011267</td>\n",
       "      <td>0.130359</td>\n",
       "      <td>-0.035060</td>\n",
       "    </tr>\n",
       "    <tr>\n",
       "      <th>19998</th>\n",
       "      <td>2.502503</td>\n",
       "      <td>2.341593</td>\n",
       "      <td>0.699883</td>\n",
       "      <td>-0.758021</td>\n",
       "      <td>1.625738</td>\n",
       "      <td>-1.399597</td>\n",
       "      <td>-2.092486</td>\n",
       "      <td>-0.296091</td>\n",
       "      <td>-1.430272</td>\n",
       "      <td>-0.274912</td>\n",
       "      <td>...</td>\n",
       "      <td>-0.149090</td>\n",
       "      <td>0.035911</td>\n",
       "      <td>0.083615</td>\n",
       "      <td>-0.091403</td>\n",
       "      <td>-0.046027</td>\n",
       "      <td>0.004222</td>\n",
       "      <td>-0.057656</td>\n",
       "      <td>0.023941</td>\n",
       "      <td>0.171986</td>\n",
       "      <td>-0.137513</td>\n",
       "    </tr>\n",
       "    <tr>\n",
       "      <th>19999</th>\n",
       "      <td>7.788500</td>\n",
       "      <td>5.207784</td>\n",
       "      <td>-3.105142</td>\n",
       "      <td>-1.568174</td>\n",
       "      <td>-0.237862</td>\n",
       "      <td>-1.473069</td>\n",
       "      <td>-1.339830</td>\n",
       "      <td>-1.480853</td>\n",
       "      <td>-0.650761</td>\n",
       "      <td>0.206112</td>\n",
       "      <td>...</td>\n",
       "      <td>-0.318645</td>\n",
       "      <td>-0.287749</td>\n",
       "      <td>-0.347327</td>\n",
       "      <td>-0.299192</td>\n",
       "      <td>-0.119051</td>\n",
       "      <td>0.131934</td>\n",
       "      <td>0.098111</td>\n",
       "      <td>-0.102406</td>\n",
       "      <td>0.011049</td>\n",
       "      <td>-0.078571</td>\n",
       "    </tr>\n",
       "  </tbody>\n",
       "</table>\n",
       "<p>20000 rows × 1053 columns</p>\n",
       "</div>"
      ],
      "text/plain": [
       "           0         1         2         3         4         5         6     \\\n",
       "0      6.009344 -4.105021 -0.158298  0.112397 -3.380197 -0.262395  1.829157   \n",
       "1      3.857342 -1.164547 -4.204653 -1.304215 -1.401527  0.056480 -0.233718   \n",
       "2     -0.729502  0.687477 -0.641385  0.032785  0.236546  0.826429 -1.006304   \n",
       "3     -3.499565  0.541343 -0.541699  0.766620 -0.036341 -0.368553 -0.222674   \n",
       "4     -0.772277 -1.427576  0.550445 -1.955713 -0.572065  0.527786  1.089030   \n",
       "...         ...       ...       ...       ...       ...       ...       ...   \n",
       "19995  3.738281 -0.762746 -4.684094 -0.318962  0.471780  0.268400 -0.339242   \n",
       "19996  2.267348 -1.473643  0.608813  1.277134  0.544269  3.313697 -1.432982   \n",
       "19997 -1.390138 -0.144814  0.248404 -0.490436  0.429808  0.122241 -0.238757   \n",
       "19998  2.502503  2.341593  0.699883 -0.758021  1.625738 -1.399597 -2.092486   \n",
       "19999  7.788500  5.207784 -3.105142 -1.568174 -0.237862 -1.473069 -1.339830   \n",
       "\n",
       "           7         8         9     ...      1043      1044      1045  \\\n",
       "0     -1.679241 -2.111836  0.605949  ... -0.541853 -0.016386 -0.496421   \n",
       "1      2.344752  1.066224  0.072569  ... -0.100180  0.210655  0.302996   \n",
       "2     -0.444173 -0.396475 -0.114984  ... -0.169121 -0.192491  0.086150   \n",
       "3     -0.072639 -0.326582  0.175338  ... -0.005458  0.004847 -0.001243   \n",
       "4      1.360639 -1.549569 -2.682784  ... -0.115732 -0.067592  0.012641   \n",
       "...         ...       ...       ...  ...       ...       ...       ...   \n",
       "19995  5.473336  0.357536 -3.425327  ...  0.049221 -0.363548 -0.147096   \n",
       "19996  1.577801 -1.985723  0.152232  ... -0.176098  0.429336 -0.302029   \n",
       "19997 -0.512848  0.180543  0.139951  ... -0.116139 -0.111286  0.104585   \n",
       "19998 -0.296091 -1.430272 -0.274912  ... -0.149090  0.035911  0.083615   \n",
       "19999 -1.480853 -0.650761  0.206112  ... -0.318645 -0.287749 -0.347327   \n",
       "\n",
       "           1046      1047      1048      1049      1050      1051      1052  \n",
       "0      0.029768 -0.008603  0.163754 -0.188795  0.394773 -0.161377 -0.149056  \n",
       "1     -0.108146 -0.087933 -0.070669  0.099805  0.187367  0.086328  0.040059  \n",
       "2      0.185080  0.051237 -0.047492  0.048603 -0.021308  0.247366  0.032664  \n",
       "3      0.000918  0.004861 -0.004590 -0.004741  0.002375  0.001710 -0.000981  \n",
       "4      0.177056  0.079585  0.102520  0.057136  0.034569  0.113968  0.129216  \n",
       "...         ...       ...       ...       ...       ...       ...       ...  \n",
       "19995 -0.035946  0.058999 -0.236781 -0.058287 -0.414197 -0.114752  0.150551  \n",
       "19996 -0.307084  0.255730 -0.165376 -0.143548  0.273094 -0.248838 -0.122704  \n",
       "19997 -0.277528  0.064150 -0.005843  0.054929  0.011267  0.130359 -0.035060  \n",
       "19998 -0.091403 -0.046027  0.004222 -0.057656  0.023941  0.171986 -0.137513  \n",
       "19999 -0.299192 -0.119051  0.131934  0.098111 -0.102406  0.011049 -0.078571  \n",
       "\n",
       "[20000 rows x 1053 columns]"
      ]
     },
     "execution_count": 70,
     "metadata": {},
     "output_type": "execute_result"
    }
   ],
   "source": [
    "finaldf"
   ]
  },
  {
   "cell_type": "markdown",
   "metadata": {
    "id": "-o-qfnxSI0ZY"
   },
   "source": [
    "## Create A User History"
   ]
  },
  {
   "cell_type": "code",
   "execution_count": 71,
   "metadata": {
    "id": "mS8vkampUBLw"
   },
   "outputs": [],
   "source": [
    "user_history=finaldf.sample(n=20)"
   ]
  },
  {
   "cell_type": "markdown",
   "metadata": {
    "id": "yZf-7HBoWFVe"
   },
   "source": [
    "## Get Centroid of the user history matrix"
   ]
  },
  {
   "cell_type": "code",
   "execution_count": 72,
   "metadata": {
    "id": "fs8580QxWE9z"
   },
   "outputs": [],
   "source": [
    "centroid=finaldf.mean()"
   ]
  },
  {
   "cell_type": "markdown",
   "metadata": {
    "id": "Ydwq_uTcZj4y"
   },
   "source": [
    "## Cosine Similarity with Centroid"
   ]
  },
  {
   "cell_type": "code",
   "execution_count": 73,
   "metadata": {
    "id": "exwdlLX6Zo4N"
   },
   "outputs": [],
   "source": [
    "finaldf.loc[-1] = centroid\n",
    "finaldf.index = finaldf.index + 1\n",
    "finaldf = finaldf.sort_index()"
   ]
  },
  {
   "cell_type": "code",
   "execution_count": 74,
   "metadata": {
    "id": "o8-CScKScDyJ"
   },
   "outputs": [],
   "source": [
    "new_vector=finaldf.to_numpy()"
   ]
  },
  {
   "cell_type": "code",
   "execution_count": 75,
   "metadata": {
    "id": "q-NuZcNbaxVG",
    "scrolled": true
   },
   "outputs": [],
   "source": [
    "#similarity_centroid=cosine_similarity(new_vector)"
   ]
  },
  {
   "cell_type": "code",
   "execution_count": 76,
   "metadata": {},
   "outputs": [],
   "source": [
    "# Define the cosine similarity function\n",
    "def cosine_similarity(vec1, vec2):\n",
    "  \"\"\"\n",
    "  Calculates the cosine similarity between two vectors.\n",
    "\n",
    "  Args:\n",
    "      vec1 (list): The first vector.\n",
    "      vec2 (list): The second vector.\n",
    "\n",
    "  Returns:\n",
    "      float: The cosine similarity between the two vectors.\n",
    "  \"\"\"\n",
    "\n",
    "  if len(vec1) != len(vec2):\n",
    "    raise ValueError(\"Vectors must have the same length.\")\n",
    "\n",
    "  dot_product = sum(a * b for a, b in zip(vec1, vec2))\n",
    "  magnitude1 = sum(x**2 for x in vec1)**0.5\n",
    "  magnitude2 = sum(x**2 for x in vec2)**0.5\n",
    "\n",
    "  if magnitude1 == 0 or magnitude2 == 0:\n",
    "    # Handle cases where one or both vectors have zero magnitude\n",
    "    return 0\n",
    "\n",
    "  return dot_product / (magnitude1 * magnitude2)\n",
    "\n",
    "# Calculate cosine similarity between centroid and each vector\n",
    "similarity_centroid = []\n",
    "for i in range(1, len(new_vector)):\n",
    "  similarity_centroid.append(cosine_similarity(new_vector[0], new_vector[i]))"
   ]
  },
  {
   "cell_type": "code",
   "execution_count": 77,
   "metadata": {
    "id": "s8tTMZbDaxVH"
   },
   "outputs": [],
   "source": [
    "# Sort based on similarity (assuming similarity_centroid is a list)\n",
    "game_list_from_centroid = sorted(enumerate(similarity_centroid), reverse=True, key=lambda x: x[1])[1:11]"
   ]
  },
  {
   "cell_type": "code",
   "execution_count": 78,
   "metadata": {
    "colab": {
     "base_uri": "https://localhost:8080/"
    },
    "id": "iqeoc0QHaxVH",
    "outputId": "9881851b-5190-4506-f0ef-3f7fffe7a8ae"
   },
   "outputs": [
    {
     "name": "stdout",
     "output_type": "stream",
     "text": [
      "[(1608, 0.4369750281024469), (19883, 0.42390151655258657), (4251, 0.4184228907243838), (2941, 0.4118797484554258), (2767, 0.40658580266221117), (18958, 0.40596531800905195), (10805, 0.398899053161665), (9339, 0.398522065549008), (3623, 0.39744041131567825), (7066, 0.3969621279425408)]\n"
     ]
    }
   ],
   "source": [
    "print(game_list_from_centroid)"
   ]
  },
  {
   "cell_type": "code",
   "execution_count": 79,
   "metadata": {
    "id": "anz_Js_ecz8U"
   },
   "outputs": [],
   "source": [
    "def Get_Name(hlist,frame): \n",
    "  for i in hlist:\n",
    "   print(frame.iloc[i[0]+1].Name)"
   ]
  },
  {
   "cell_type": "code",
   "execution_count": 80,
   "metadata": {
    "colab": {
     "base_uri": "https://localhost:8080/"
    },
    "id": "HulF8hcedNus",
    "outputId": "cafa2668-ea57-48ee-cdfd-787374ed944c"
   },
   "outputs": [
    {
     "name": "stdout",
     "output_type": "stream",
     "text": [
      "HardCop 2\n",
      "The Empty Inn\n",
      "RTS Commander: Smash the Rebels\n",
      "Ancient lands: the Tsar awakening\n",
      "Tank Universal\n",
      "Airborne: Trials\n",
      "The Spook Inspectors\n",
      "Kontrol Flow\n",
      "C.H.A.S.E.D.\n",
      "The Cleaner\n"
     ]
    }
   ],
   "source": [
    "Get_Name(game_list_from_centroid,data)"
   ]
  },
  {
   "cell_type": "markdown",
   "metadata": {
    "id": "n8wF851NY-iS"
   },
   "source": [
    "# ConvexHull -To check if this game could fit the user"
   ]
  },
  {
   "cell_type": "code",
   "execution_count": 81,
   "metadata": {
    "id": "fp_ezdbjWuRa"
   },
   "outputs": [],
   "source": [
    "from scipy.spatial import ConvexHull\n",
    "import scipy.spatial\n",
    "from scipy.spatial import Delaunay"
   ]
  },
  {
   "cell_type": "code",
   "execution_count": null,
   "metadata": {
    "id": "SG1aGKBz-Yb2"
   },
   "outputs": [],
   "source": []
  },
  {
   "cell_type": "code",
   "execution_count": 82,
   "metadata": {
    "id": "n1YxBuyUdfsA"
   },
   "outputs": [],
   "source": [
    "pca_convex=PCA(n_components=10)\n"
   ]
  },
  {
   "cell_type": "code",
   "execution_count": 83,
   "metadata": {
    "id": "bhlSBA0yecUM"
   },
   "outputs": [],
   "source": [
    "c_df= pca_convex.fit(vector)"
   ]
  },
  {
   "cell_type": "code",
   "execution_count": 84,
   "metadata": {
    "id": "FLnnk0jGecUN"
   },
   "outputs": [],
   "source": [
    "c_df=pca_convex.transform(vector)"
   ]
  },
  {
   "cell_type": "code",
   "execution_count": 85,
   "metadata": {
    "id": "oLcQDYFHe4lq"
   },
   "outputs": [],
   "source": [
    "c_df=pd.DataFrame(c_df)"
   ]
  },
  {
   "cell_type": "code",
   "execution_count": 86,
   "metadata": {
    "id": "zAsD6qSjewUG"
   },
   "outputs": [],
   "source": [
    "user_history_convex=c_df.sample(n=20)"
   ]
  },
  {
   "cell_type": "code",
   "execution_count": 87,
   "metadata": {
    "id": "5NQ7HYSZela8"
   },
   "outputs": [],
   "source": [
    "hull = ConvexHull(user_history_convex)"
   ]
  },
  {
   "cell_type": "code",
   "execution_count": 88,
   "metadata": {
    "id": "B1WrOAcGfWbH"
   },
   "outputs": [],
   "source": [
    "def in_hull(p, hull):\n",
    "    from scipy.spatial import Delaunay\n",
    "    if not isinstance(hull,Delaunay):\n",
    "        hull = Delaunay(hull)\n",
    "\n",
    "    return hull.find_simplex(p)>=0"
   ]
  },
  {
   "cell_type": "code",
   "execution_count": 89,
   "metadata": {
    "id": "6O5gbPyu_ov5"
   },
   "outputs": [],
   "source": [
    "compatability = pd.DataFrame(index=range(50), columns=['Name','Compatability'])"
   ]
  },
  {
   "cell_type": "code",
   "execution_count": 90,
   "metadata": {
    "id": "fRxJyzx794_c"
   },
   "outputs": [],
   "source": [
    "for i in range(0,50):\n",
    "  if(in_hull(c_df.iloc[i],user_history_convex)==0):\n",
    "   compatability.loc[i,'Name']=data.iloc[i].Name\n",
    "   compatability.loc[i,'Compatability']='Not Compatible'\n",
    "  else:\n",
    "    compatability.loc[i,'Name']=data.iloc[i].Name\n",
    "    compatability.loc[i,'Compatability']='Compatible'\n",
    "  "
   ]
  },
  {
   "cell_type": "code",
   "execution_count": 91,
   "metadata": {
    "colab": {
     "base_uri": "https://localhost:8080/",
     "height": 1000
    },
    "id": "yvPZICpPBOEO",
    "outputId": "684e926d-16fb-4e85-9f03-427623ba2201"
   },
   "outputs": [
    {
     "data": {
      "text/html": [
       "<div>\n",
       "<style scoped>\n",
       "    .dataframe tbody tr th:only-of-type {\n",
       "        vertical-align: middle;\n",
       "    }\n",
       "\n",
       "    .dataframe tbody tr th {\n",
       "        vertical-align: top;\n",
       "    }\n",
       "\n",
       "    .dataframe thead th {\n",
       "        text-align: right;\n",
       "    }\n",
       "</style>\n",
       "<table border=\"1\" class=\"dataframe\">\n",
       "  <thead>\n",
       "    <tr style=\"text-align: right;\">\n",
       "      <th></th>\n",
       "      <th>Name</th>\n",
       "      <th>Compatability</th>\n",
       "    </tr>\n",
       "  </thead>\n",
       "  <tbody>\n",
       "    <tr>\n",
       "      <th>0</th>\n",
       "      <td>Need For Speed: Hot Pursuit</td>\n",
       "      <td>Not Compatible</td>\n",
       "    </tr>\n",
       "    <tr>\n",
       "      <th>1</th>\n",
       "      <td>Galactic Bowling</td>\n",
       "      <td>Not Compatible</td>\n",
       "    </tr>\n",
       "    <tr>\n",
       "      <th>2</th>\n",
       "      <td>Train Bandit</td>\n",
       "      <td>Not Compatible</td>\n",
       "    </tr>\n",
       "    <tr>\n",
       "      <th>3</th>\n",
       "      <td>Jolt Project</td>\n",
       "      <td>Compatible</td>\n",
       "    </tr>\n",
       "    <tr>\n",
       "      <th>4</th>\n",
       "      <td>Henosis™</td>\n",
       "      <td>Not Compatible</td>\n",
       "    </tr>\n",
       "    <tr>\n",
       "      <th>5</th>\n",
       "      <td>Two Weeks in Painland</td>\n",
       "      <td>Not Compatible</td>\n",
       "    </tr>\n",
       "    <tr>\n",
       "      <th>6</th>\n",
       "      <td>Wartune Reborn</td>\n",
       "      <td>Not Compatible</td>\n",
       "    </tr>\n",
       "    <tr>\n",
       "      <th>7</th>\n",
       "      <td>TD Worlds</td>\n",
       "      <td>Not Compatible</td>\n",
       "    </tr>\n",
       "    <tr>\n",
       "      <th>8</th>\n",
       "      <td>Legend of Rome - The Wrath of Mars</td>\n",
       "      <td>Compatible</td>\n",
       "    </tr>\n",
       "    <tr>\n",
       "      <th>9</th>\n",
       "      <td>MazM: Jekyll and Hyde</td>\n",
       "      <td>Not Compatible</td>\n",
       "    </tr>\n",
       "    <tr>\n",
       "      <th>10</th>\n",
       "      <td>Deadlings: Rotten Edition</td>\n",
       "      <td>Not Compatible</td>\n",
       "    </tr>\n",
       "    <tr>\n",
       "      <th>11</th>\n",
       "      <td>WARSAW</td>\n",
       "      <td>Not Compatible</td>\n",
       "    </tr>\n",
       "    <tr>\n",
       "      <th>12</th>\n",
       "      <td>Cthulhu Realms</td>\n",
       "      <td>Not Compatible</td>\n",
       "    </tr>\n",
       "    <tr>\n",
       "      <th>13</th>\n",
       "      <td>Clockwork Dungeon</td>\n",
       "      <td>Not Compatible</td>\n",
       "    </tr>\n",
       "    <tr>\n",
       "      <th>14</th>\n",
       "      <td>Royal Battleships</td>\n",
       "      <td>Not Compatible</td>\n",
       "    </tr>\n",
       "    <tr>\n",
       "      <th>15</th>\n",
       "      <td>Diary of Lucie</td>\n",
       "      <td>Not Compatible</td>\n",
       "    </tr>\n",
       "    <tr>\n",
       "      <th>16</th>\n",
       "      <td>Alien Breed 3: Descent</td>\n",
       "      <td>Not Compatible</td>\n",
       "    </tr>\n",
       "    <tr>\n",
       "      <th>17</th>\n",
       "      <td>Hunting Unlimited 3</td>\n",
       "      <td>Not Compatible</td>\n",
       "    </tr>\n",
       "    <tr>\n",
       "      <th>18</th>\n",
       "      <td>Hero of the Kingdom II</td>\n",
       "      <td>Not Compatible</td>\n",
       "    </tr>\n",
       "    <tr>\n",
       "      <th>19</th>\n",
       "      <td>Super Naughty Maid 2</td>\n",
       "      <td>Compatible</td>\n",
       "    </tr>\n",
       "    <tr>\n",
       "      <th>20</th>\n",
       "      <td>KHIO</td>\n",
       "      <td>Not Compatible</td>\n",
       "    </tr>\n",
       "    <tr>\n",
       "      <th>21</th>\n",
       "      <td>Steam Squad</td>\n",
       "      <td>Not Compatible</td>\n",
       "    </tr>\n",
       "    <tr>\n",
       "      <th>22</th>\n",
       "      <td>Project: R.E.B.O.O.T 2</td>\n",
       "      <td>Not Compatible</td>\n",
       "    </tr>\n",
       "    <tr>\n",
       "      <th>23</th>\n",
       "      <td>Aerofly FS 2 Flight Simulator</td>\n",
       "      <td>Not Compatible</td>\n",
       "    </tr>\n",
       "    <tr>\n",
       "      <th>24</th>\n",
       "      <td>Turtle Lu</td>\n",
       "      <td>Not Compatible</td>\n",
       "    </tr>\n",
       "    <tr>\n",
       "      <th>25</th>\n",
       "      <td>Kanjozoku Game レーサー</td>\n",
       "      <td>Not Compatible</td>\n",
       "    </tr>\n",
       "    <tr>\n",
       "      <th>26</th>\n",
       "      <td>PowersVR</td>\n",
       "      <td>Not Compatible</td>\n",
       "    </tr>\n",
       "    <tr>\n",
       "      <th>27</th>\n",
       "      <td>Draw Your Game</td>\n",
       "      <td>Not Compatible</td>\n",
       "    </tr>\n",
       "    <tr>\n",
       "      <th>28</th>\n",
       "      <td>Pathfinders: Memories</td>\n",
       "      <td>Not Compatible</td>\n",
       "    </tr>\n",
       "    <tr>\n",
       "      <th>29</th>\n",
       "      <td>Bright Days in Quarantine</td>\n",
       "      <td>Not Compatible</td>\n",
       "    </tr>\n",
       "    <tr>\n",
       "      <th>30</th>\n",
       "      <td>邻居大叔/UncleNeighbor:uncle Dating Simulator</td>\n",
       "      <td>Compatible</td>\n",
       "    </tr>\n",
       "    <tr>\n",
       "      <th>31</th>\n",
       "      <td>Dupio</td>\n",
       "      <td>Not Compatible</td>\n",
       "    </tr>\n",
       "    <tr>\n",
       "      <th>32</th>\n",
       "      <td>Home Office Tasker</td>\n",
       "      <td>Compatible</td>\n",
       "    </tr>\n",
       "    <tr>\n",
       "      <th>33</th>\n",
       "      <td>Terror In The Atomic Desert</td>\n",
       "      <td>Not Compatible</td>\n",
       "    </tr>\n",
       "    <tr>\n",
       "      <th>34</th>\n",
       "      <td>Unhappy Ever After</td>\n",
       "      <td>Not Compatible</td>\n",
       "    </tr>\n",
       "    <tr>\n",
       "      <th>35</th>\n",
       "      <td>DogFighter</td>\n",
       "      <td>Not Compatible</td>\n",
       "    </tr>\n",
       "    <tr>\n",
       "      <th>36</th>\n",
       "      <td>March Of Soldiers</td>\n",
       "      <td>Not Compatible</td>\n",
       "    </tr>\n",
       "    <tr>\n",
       "      <th>37</th>\n",
       "      <td>Bepuzzled Kittens Jigsaw Puzzle</td>\n",
       "      <td>Not Compatible</td>\n",
       "    </tr>\n",
       "    <tr>\n",
       "      <th>38</th>\n",
       "      <td>Dream Detective</td>\n",
       "      <td>Not Compatible</td>\n",
       "    </tr>\n",
       "    <tr>\n",
       "      <th>39</th>\n",
       "      <td>Tower of Shades</td>\n",
       "      <td>Not Compatible</td>\n",
       "    </tr>\n",
       "    <tr>\n",
       "      <th>40</th>\n",
       "      <td>Vanguard Princess</td>\n",
       "      <td>Not Compatible</td>\n",
       "    </tr>\n",
       "    <tr>\n",
       "      <th>41</th>\n",
       "      <td>IRON REBELLION</td>\n",
       "      <td>Not Compatible</td>\n",
       "    </tr>\n",
       "    <tr>\n",
       "      <th>42</th>\n",
       "      <td>Treasures of the Ancients: Egypt</td>\n",
       "      <td>Not Compatible</td>\n",
       "    </tr>\n",
       "    <tr>\n",
       "      <th>43</th>\n",
       "      <td>Deadfall Adventures</td>\n",
       "      <td>Not Compatible</td>\n",
       "    </tr>\n",
       "    <tr>\n",
       "      <th>44</th>\n",
       "      <td>Who We Are Now</td>\n",
       "      <td>Compatible</td>\n",
       "    </tr>\n",
       "    <tr>\n",
       "      <th>45</th>\n",
       "      <td>Reigns: Game of Thrones</td>\n",
       "      <td>Not Compatible</td>\n",
       "    </tr>\n",
       "    <tr>\n",
       "      <th>46</th>\n",
       "      <td>CasinoRPG</td>\n",
       "      <td>Not Compatible</td>\n",
       "    </tr>\n",
       "    <tr>\n",
       "      <th>47</th>\n",
       "      <td>Fuyu no Tsuma</td>\n",
       "      <td>Not Compatible</td>\n",
       "    </tr>\n",
       "    <tr>\n",
       "      <th>48</th>\n",
       "      <td>Far Cry® 5</td>\n",
       "      <td>Not Compatible</td>\n",
       "    </tr>\n",
       "    <tr>\n",
       "      <th>49</th>\n",
       "      <td>Loot Collection: Mahjong</td>\n",
       "      <td>Not Compatible</td>\n",
       "    </tr>\n",
       "  </tbody>\n",
       "</table>\n",
       "</div>"
      ],
      "text/plain": [
       "                                         Name   Compatability\n",
       "0                 Need For Speed: Hot Pursuit  Not Compatible\n",
       "1                            Galactic Bowling  Not Compatible\n",
       "2                                Train Bandit  Not Compatible\n",
       "3                                Jolt Project      Compatible\n",
       "4                                    Henosis™  Not Compatible\n",
       "5                       Two Weeks in Painland  Not Compatible\n",
       "6                              Wartune Reborn  Not Compatible\n",
       "7                                   TD Worlds  Not Compatible\n",
       "8          Legend of Rome - The Wrath of Mars      Compatible\n",
       "9                       MazM: Jekyll and Hyde  Not Compatible\n",
       "10                  Deadlings: Rotten Edition  Not Compatible\n",
       "11                                     WARSAW  Not Compatible\n",
       "12                             Cthulhu Realms  Not Compatible\n",
       "13                          Clockwork Dungeon  Not Compatible\n",
       "14                          Royal Battleships  Not Compatible\n",
       "15                             Diary of Lucie  Not Compatible\n",
       "16                     Alien Breed 3: Descent  Not Compatible\n",
       "17                        Hunting Unlimited 3  Not Compatible\n",
       "18                     Hero of the Kingdom II  Not Compatible\n",
       "19                       Super Naughty Maid 2      Compatible\n",
       "20                                       KHIO  Not Compatible\n",
       "21                                Steam Squad  Not Compatible\n",
       "22                     Project: R.E.B.O.O.T 2  Not Compatible\n",
       "23              Aerofly FS 2 Flight Simulator  Not Compatible\n",
       "24                                  Turtle Lu  Not Compatible\n",
       "25                        Kanjozoku Game レーサー  Not Compatible\n",
       "26                                   PowersVR  Not Compatible\n",
       "27                             Draw Your Game  Not Compatible\n",
       "28                      Pathfinders: Memories  Not Compatible\n",
       "29                  Bright Days in Quarantine  Not Compatible\n",
       "30  邻居大叔/UncleNeighbor:uncle Dating Simulator      Compatible\n",
       "31                                      Dupio  Not Compatible\n",
       "32                         Home Office Tasker      Compatible\n",
       "33                Terror In The Atomic Desert  Not Compatible\n",
       "34                         Unhappy Ever After  Not Compatible\n",
       "35                                 DogFighter  Not Compatible\n",
       "36                          March Of Soldiers  Not Compatible\n",
       "37            Bepuzzled Kittens Jigsaw Puzzle  Not Compatible\n",
       "38                            Dream Detective  Not Compatible\n",
       "39                            Tower of Shades  Not Compatible\n",
       "40                          Vanguard Princess  Not Compatible\n",
       "41                             IRON REBELLION  Not Compatible\n",
       "42           Treasures of the Ancients: Egypt  Not Compatible\n",
       "43                        Deadfall Adventures  Not Compatible\n",
       "44                             Who We Are Now      Compatible\n",
       "45                    Reigns: Game of Thrones  Not Compatible\n",
       "46                                  CasinoRPG  Not Compatible\n",
       "47                              Fuyu no Tsuma  Not Compatible\n",
       "48                                 Far Cry® 5  Not Compatible\n",
       "49                   Loot Collection: Mahjong  Not Compatible"
      ]
     },
     "execution_count": 91,
     "metadata": {},
     "output_type": "execute_result"
    }
   ],
   "source": [
    "compatability"
   ]
  }
 ],
 "metadata": {
  "accelerator": "TPU",
  "colab": {
   "provenance": []
  },
  "gpuClass": "standard",
  "kernelspec": {
   "display_name": "Python 3 (ipykernel)",
   "language": "python",
   "name": "python3"
  },
  "language_info": {
   "codemirror_mode": {
    "name": "ipython",
    "version": 3
   },
   "file_extension": ".py",
   "mimetype": "text/x-python",
   "name": "python",
   "nbconvert_exporter": "python",
   "pygments_lexer": "ipython3",
   "version": "3.9.18"
  }
 },
 "nbformat": 4,
 "nbformat_minor": 1
}
